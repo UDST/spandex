{
 "metadata": {
  "name": "",
  "signature": "sha256:ec089dcbf8c17e9af4e89cb59f4a83ee217255d695a745bddd8b5cd3b857a132"
 },
 "nbformat": 3,
 "nbformat_minor": 0,
 "worksheets": [
  {
   "cells": [
    {
     "cell_type": "heading",
     "level": 1,
     "metadata": {},
     "source": [
      "Comparison of different Python APIs for working with geospatial data"
     ]
    },
    {
     "cell_type": "code",
     "collapsed": false,
     "input": [
      "import os\n",
      "\n",
      "from utils import load_config, DataLoader\n",
      "\n",
      "\n",
      "# More info about the DataLoader and how to use it.\n",
      "# Override configuration in config/user.cfg.\n",
      "DataLoader?"
     ],
     "language": "python",
     "metadata": {},
     "outputs": [],
     "prompt_number": 1
    },
    {
     "cell_type": "code",
     "collapsed": false,
     "input": [
      "with DataLoader() as loader:\n",
      "\n",
      "    # Load boundaries.\n",
      "    for boundary in ['cities', 'tracts', 'zones']:\n",
      "        filename = os.path.join('boundaries', '%s.shp' % boundary)\n",
      "        loader.load_shp(filename, boundary, drop=True)\n",
      "\n",
      "    # Load zoning.\n",
      "    loader.load_shp('zoning/zoning_geom.shp', 'zoning', drop=True)\n",
      "\n",
      "    # Load parcels.\n",
      "    for county in ['SantaFe', 'Torrance', 'Valencia', 'Bernalillo']:\n",
      "        filename = os.path.join('parcel', '%s_ed.shp' % county)\n",
      "        loader.load_shp(filename, 'parcels_' + county, drop=True)"
     ],
     "language": "python",
     "metadata": {},
     "outputs": [],
     "prompt_number": 2
    },
    {
     "cell_type": "markdown",
     "metadata": {},
     "source": [
      "## psycopg2\n",
      "\n",
      "Advantages:\n",
      "\n",
      " - Robust.\n",
      " - PostGIS and psycopg2 are both well-documented and well-supported.\n",
      "\n",
      "Disadvantages:\n",
      "\n",
      " - Python/SQL mixed code is verbose and harder to read/maintain."
     ]
    },
    {
     "cell_type": "code",
     "collapsed": false,
     "input": [
      "from utils import DataLoader\n",
      "\n",
      "\n",
      "with DataLoader() as loader:\n",
      "    with loader.connection.cursor() as cur:\n",
      "        cur.execute(\"ALTER TABLE parcels_Valencia ADD zone_uid varchar(19)\")\n",
      "        cur.execute(\n",
      "            \"\"\"UPDATE parcels_Valencia SET zone_uid = zoning.zone_uid\n",
      "            FROM zoning WHERE\n",
      "            ST_Intersects(ST_Centroid(parcels_Valencia.geom), zoning.geom);\"\"\")"
     ],
     "language": "python",
     "metadata": {},
     "outputs": [],
     "prompt_number": 3
    },
    {
     "cell_type": "markdown",
     "metadata": {},
     "source": [
      "## GeoAlchemy 2\n",
      "\n",
      "Advantages:\n",
      "\n",
      " - Object-oriented. Cleaner Python syntax.\n",
      " - Exposes PostGIS functions as methods of the same name.\n",
      " - Can coexist with psycopg2.\n",
      " - Provides Shapely integration.\n",
      " \n",
      "Disadvantages:\n",
      " - Requires ORM mappings to describe database tables, although reflection (`autoload=True`) will build it from database schema, so this might not be an issue.\n",
      " - Still \"feels\" like SQL, possibly with more complexity."
     ]
    },
    {
     "cell_type": "code",
     "collapsed": false,
     "input": [
      "from sqlalchemy import create_engine, Column, String\n",
      "from sqlalchemy.engine.url import URL\n",
      "from sqlalchemy.ext.declarative import declarative_base\n",
      "from sqlalchemy.orm import sessionmaker\n",
      "from geoalchemy2 import Geometry\n",
      "\n",
      "from utils import load_config\n",
      "\n",
      "\n",
      "config = load_config()\n",
      "db_config = dict(config.items('database'))\n",
      "engine = create_engine(URL(drivername='postgresql', **db_config))\n",
      "Base = declarative_base(engine)\n",
      "Session = sessionmaker(bind=engine)"
     ],
     "language": "python",
     "metadata": {},
     "outputs": [],
     "prompt_number": 4
    },
    {
     "cell_type": "code",
     "collapsed": false,
     "input": [
      "# Mappings to describe database tables. Reflection enabled.\n",
      "class Parcels(Base):\n",
      "    __tablename__ = 'parcels_valencia'\n",
      "    __table_args__ = {'autoload': True}\n",
      "    zone_uid = Column(String)\n",
      "\n",
      "\n",
      "class Zoning(Base):\n",
      "    __tablename__ = 'zoning'\n",
      "    __table_args__ = {'autoload': True}"
     ],
     "language": "python",
     "metadata": {},
     "outputs": [],
     "prompt_number": 5
    },
    {
     "cell_type": "markdown",
     "metadata": {},
     "source": [
      "## GeoDjango"
     ]
    },
    {
     "cell_type": "markdown",
     "metadata": {},
     "source": [
      "## GeoPandas\n",
      "\n",
      "Advantages:\n",
      "\n",
      " - Does not depend on PostGIS.\n",
      " - Clean syntax based on Pandas, Shapely, Fiona.\n",
      "\n",
      "Disadvantages:\n",
      "\n",
      " - Slow. CPU and memory intensive.\n",
      " - Might not be as practical for exploring large tables in a notebook as we would hope.\n",
      " - Moving target with development in early stages."
     ]
    },
    {
     "cell_type": "code",
     "collapsed": false,
     "input": [
      "import os\n",
      "\n",
      "from geopandas import GeoDataFrame, GeoSeries\n",
      "from shapely import speedups\n",
      "\n",
      "from utils import load_config\n",
      "\n",
      "\n",
      "config = load_config()\n",
      "basedir = config.get('data', 'directory')\n",
      "\n",
      "# Enable Shapely performance enhancements written in C.\n",
      "speedups.enable()\n",
      "\n",
      "# Load zone boundaries.\n",
      "filename = os.path.join(basedir, 'boundaries', 'zones.shp')\n",
      "zones = GeoDataFrame.from_file(filename)\n",
      "zones.head()"
     ],
     "language": "python",
     "metadata": {},
     "outputs": [
      {
       "html": [
        "<div style=\"max-height:1000px;max-width:1500px;overflow:auto;\">\n",
        "<table border=\"1\" class=\"dataframe\">\n",
        "  <thead>\n",
        "    <tr style=\"text-align: right;\">\n",
        "      <th></th>\n",
        "      <th>acres</th>\n",
        "      <th>county</th>\n",
        "      <th>dasz_id</th>\n",
        "      <th>geometry</th>\n",
        "      <th>remi_id</th>\n",
        "      <th>sub_id</th>\n",
        "      <th>zone_id</th>\n",
        "    </tr>\n",
        "  </thead>\n",
        "  <tbody>\n",
        "    <tr>\n",
        "      <th>0</th>\n",
        "      <td>  40865.899772</td>\n",
        "      <td>   SANDOVAL</td>\n",
        "      <td> 2072</td>\n",
        "      <td> POLYGON ((1421526.479077276 1898919.225179945,...</td>\n",
        "      <td> 5</td>\n",
        "      <td> 42</td>\n",
        "      <td>   3</td>\n",
        "    </tr>\n",
        "    <tr>\n",
        "      <th>1</th>\n",
        "      <td> 165457.116689</td>\n",
        "      <td>   SANDOVAL</td>\n",
        "      <td> 2451</td>\n",
        "      <td> POLYGON ((1603120.280265529 1701387.36342305, ...</td>\n",
        "      <td> 5</td>\n",
        "      <td> 42</td>\n",
        "      <td>   6</td>\n",
        "    </tr>\n",
        "    <tr>\n",
        "      <th>2</th>\n",
        "      <td>    159.661610</td>\n",
        "      <td> BERNALILLO</td>\n",
        "      <td> 7435</td>\n",
        "      <td> POLYGON ((1558331.669715079 1500342.403610035,...</td>\n",
        "      <td> 1</td>\n",
        "      <td>  8</td>\n",
        "      <td> 707</td>\n",
        "    </tr>\n",
        "    <tr>\n",
        "      <th>3</th>\n",
        "      <td>  36607.344347</td>\n",
        "      <td>   SANDOVAL</td>\n",
        "      <td> 2041</td>\n",
        "      <td> POLYGON ((1457916.838548024 1755292.882809993,...</td>\n",
        "      <td> 5</td>\n",
        "      <td> 42</td>\n",
        "      <td>   7</td>\n",
        "    </tr>\n",
        "    <tr>\n",
        "      <th>4</th>\n",
        "      <td> 302665.193771</td>\n",
        "      <td>   SANDOVAL</td>\n",
        "      <td> 2011</td>\n",
        "      <td> POLYGON ((1297825.733036789 1900537.28622238, ...</td>\n",
        "      <td> 5</td>\n",
        "      <td> 42</td>\n",
        "      <td>   1</td>\n",
        "    </tr>\n",
        "  </tbody>\n",
        "</table>\n",
        "</div>"
       ],
       "metadata": {},
       "output_type": "pyout",
       "prompt_number": 6,
       "text": [
        "           acres      county  dasz_id  \\\n",
        "0   40865.899772    SANDOVAL     2072   \n",
        "1  165457.116689    SANDOVAL     2451   \n",
        "2     159.661610  BERNALILLO     7435   \n",
        "3   36607.344347    SANDOVAL     2041   \n",
        "4  302665.193771    SANDOVAL     2011   \n",
        "\n",
        "                                            geometry  remi_id  sub_id  zone_id  \n",
        "0  POLYGON ((1421526.479077276 1898919.225179945,...        5      42        3  \n",
        "1  POLYGON ((1603120.280265529 1701387.36342305, ...        5      42        6  \n",
        "2  POLYGON ((1558331.669715079 1500342.403610035,...        1       8      707  \n",
        "3  POLYGON ((1457916.838548024 1755292.882809993,...        5      42        7  \n",
        "4  POLYGON ((1297825.733036789 1900537.28622238, ...        5      42        1  "
       ]
      }
     ],
     "prompt_number": 6
    },
    {
     "cell_type": "markdown",
     "metadata": {},
     "source": [
      "## Other software to consider\n",
      "\n",
      " - PPyGIS\n",
      " - Shapely and Fiona directly?\n",
      " - GeoKettle or Talend spatial extension (like FME, written in Java)"
     ]
    }
   ],
   "metadata": {}
  }
 ]
}