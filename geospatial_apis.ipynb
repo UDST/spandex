{
 "metadata": {
  "name": "",
  "signature": "sha256:97dc68e487d61ff557fc1520e311557216e31489c20fc824712fab103dc4f5ef"
 },
 "nbformat": 3,
 "nbformat_minor": 0,
 "worksheets": [
  {
   "cells": [
    {
     "cell_type": "heading",
     "level": 1,
     "metadata": {},
     "source": [
      "Comparison of different Python APIs for working with geospatial data"
     ]
    },
    {
     "cell_type": "code",
     "collapsed": false,
     "input": [
      "import os\n",
      "\n",
      "from utils import load_config, DataLoader\n",
      "\n",
      "\n",
      "counties = ['SantaFe', 'Torrance', 'Valencia', 'Bernalillo']\n",
      "\n",
      "# More info about the DataLoader and how to use it.\n",
      "# Override configuration in config/user.cfg.\n",
      "DataLoader?"
     ],
     "language": "python",
     "metadata": {},
     "outputs": []
    },
    {
     "cell_type": "code",
     "collapsed": false,
     "input": [
      "with DataLoader() as loader:\n",
      "\n",
      "    # Load boundaries.\n",
      "    for boundary in ['cities', 'tracts', 'zones']:\n",
      "        filename = os.path.join('boundaries', '%s.shp' % boundary)\n",
      "        loader.load_shp(filename, boundary, drop=True)\n",
      "\n",
      "    # Load zoning.\n",
      "    loader.load_shp('zoning/zoning_geom.shp', 'zoning', drop=True)\n",
      "\n",
      "    # Load parcels.\n",
      "    for county in counties:\n",
      "        filename = os.path.join('parcel', '%s_ed.shp' % county)\n",
      "        loader.load_shp(filename, 'parcels_' + county.lower(), drop=True)"
     ],
     "language": "python",
     "metadata": {},
     "outputs": []
    },
    {
     "cell_type": "markdown",
     "metadata": {},
     "source": [
      "## Psycopg\n",
      "\n",
      "[Psycopg](http://initd.org/psycopg/) is a driver for interacting with PostgreSQL. It does not provide any abstraction for SQL beyond [passing parameters to SQL queries](http://initd.org/psycopg/docs/usage.html#query-parameters).\n",
      "\n",
      "Advantages:\n",
      "\n",
      " - Robust.\n",
      " - PostGIS and Psycopg are both well-documented and well-supported.\n",
      "\n",
      "Disadvantages:\n",
      "\n",
      " - Python/SQL mixed code is verbose and harder to read/maintain."
     ]
    },
    {
     "cell_type": "code",
     "collapsed": false,
     "input": [
      "from utils import DataLoader\n",
      "\n",
      "\n",
      "with DataLoader() as loader:\n",
      "    with loader.connection.cursor() as cur:\n",
      "        cur.execute(\"ALTER TABLE parcels_valencia ADD zone_uid varchar(19)\")\n",
      "        cur.execute(\n",
      "            \"\"\"UPDATE parcels_valencia SET zone_uid = zoning.zone_uid\n",
      "            FROM zoning WHERE\n",
      "            ST_Intersects(ST_Centroid(parcels_valencia.geom), zoning.geom);\"\"\")"
     ],
     "language": "python",
     "metadata": {},
     "outputs": []
    },
    {
     "cell_type": "markdown",
     "metadata": {},
     "source": [
      "## GeoAlchemy 2 ORM\n",
      "\n",
      "[GeoAlchemy 2](http://geoalchemy-2.readthedocs.org/) ORM provides a high-level, object-oriented Python API that abstracts SQL expressions.\n",
      "\n",
      "Advantages:\n",
      "\n",
      " - Cleaner Python syntax.\n",
      " - Still exposes SQL functions, including [PostGIS spatial functions](http://geoalchemy-2.readthedocs.org/en/0.2.4/spatial_functions.html), directly.\n",
      " - Can coexist alongside Psycopg.\n",
      " - Provides [Shapely integration](http://geoalchemy-2.readthedocs.org/en/latest/shape.html).\n",
      " - Easier to write Python functions that wrap SQL operations.\n",
      "\n",
      "Disadvantages:\n",
      " - Requires ORM mappings to describe database tables, although [reflection](http://docs.sqlalchemy.org/en/latest/core/reflection.html) (`autoload=True`) will build it from database schema, so this might not be an issue.\n",
      " - Difficult to modify table schema, e.g., adding columns, after creating the table. Best to do this using Psycopg2 (`ALTER TABLE`).\n",
      " - Still \"feels\" like SQL, possibly with added overhead/complexity."
     ]
    },
    {
     "cell_type": "code",
     "collapsed": false,
     "input": [
      "from sqlalchemy import create_engine, Column, String\n",
      "from sqlalchemy.engine.url import URL\n",
      "from sqlalchemy.ext.declarative import declarative_base\n",
      "from sqlalchemy.orm import sessionmaker\n",
      "from geoalchemy2 import Geometry\n",
      "\n",
      "from utils import load_config\n",
      "\n",
      "\n",
      "# Load configuration to build engine and session for connection.\n",
      "config = load_config()\n",
      "db_config = dict(config.items('database'))\n",
      "engine = create_engine(URL(drivername='postgresql', **db_config))\n",
      "Base = declarative_base(engine)\n",
      "Session = sessionmaker(bind=engine)\n",
      "\n",
      "\n",
      "# Mappings to describe database tables with reflection.\n",
      "class Autoload(object):\n",
      "    __table_args__ = {'autoload': True}\n",
      "\n",
      "\n",
      "class Parcels(Autoload, Base):\n",
      "    __tablename__ = 'parcels_valencia'\n",
      "\n",
      "\n",
      "class Zoning(Autoload, Base):\n",
      "    __tablename__ = 'zoning'\n",
      "\n",
      "\n",
      "# Dynamically map all parcel tables.\n",
      "parcel_tables = []\n",
      "for county in counties:\n",
      "    name = 'parcels_' + county.lower()\n",
      "    cls = type(name, (Autoload, Base), {'__tablename__': name})\n",
      "    parcel_tables.append(cls)"
     ],
     "language": "python",
     "metadata": {},
     "outputs": []
    },
    {
     "cell_type": "markdown",
     "metadata": {},
     "source": [
      "## GeoAlchemy 2 Core\n",
      "\n",
      "GeoAlchemy 2 [Core](http://docs.sqlalchemy.org/en/latest/core/tutorial.html) is similar to ORM, but its syntax is much less abstracted from SQL. SQL expressions are represented as Python constructs, not objects."
     ]
    },
    {
     "cell_type": "code",
     "collapsed": false,
     "input": [],
     "language": "python",
     "metadata": {},
     "outputs": []
    },
    {
     "cell_type": "markdown",
     "metadata": {},
     "source": [
      "## GeoDjango"
     ]
    },
    {
     "cell_type": "markdown",
     "metadata": {},
     "source": [
      "## GeoPandas\n",
      "\n",
      "Advantages:\n",
      "\n",
      " - Does not depend on PostGIS.\n",
      " - Clean syntax based on Pandas, Shapely, Fiona.\n",
      "\n",
      "Disadvantages:\n",
      "\n",
      " - Slow. CPU and memory intensive.\n",
      " - Might not be as practical for exploring large tables in a notebook as we would hope.\n",
      " - Moving target with development in early stages."
     ]
    },
    {
     "cell_type": "code",
     "collapsed": false,
     "input": [
      "import os\n",
      "\n",
      "from geopandas import GeoDataFrame, GeoSeries\n",
      "from shapely import speedups\n",
      "\n",
      "from utils import load_config\n",
      "\n",
      "\n",
      "config = load_config()\n",
      "basedir = config.get('data', 'directory')\n",
      "\n",
      "# Enable Shapely performance enhancements written in C.\n",
      "speedups.enable()\n",
      "\n",
      "# Load zone boundaries.\n",
      "filename = os.path.join(basedir, 'boundaries', 'zones.shp')\n",
      "zones = GeoDataFrame.from_file(filename)\n",
      "zones.head()"
     ],
     "language": "python",
     "metadata": {},
     "outputs": []
    },
    {
     "cell_type": "markdown",
     "metadata": {},
     "source": [
      "## Other software to consider\n",
      "\n",
      " - PPyGIS\n",
      " - Shapely and Fiona directly?\n",
      " - GeoKettle or Talend spatial extension (like FME, written in Java)"
     ]
    }
   ],
   "metadata": {}
  }
 ]
}