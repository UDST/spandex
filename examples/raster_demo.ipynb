{
 "metadata": {
  "name": "",
  "signature": "sha256:50bbde567635a110c4054c174439d196d2b520c47dd88a504a9ee9cc5ceec921"
 },
 "nbformat": 3,
 "nbformat_minor": 0,
 "worksheets": [
  {
   "cells": [
    {
     "cell_type": "code",
     "collapsed": false,
     "input": [
      "import geopandas as gpd\n",
      "import psycopg2\n",
      "import urbansim.sim.simulation as sim\n",
      "from spandex import spatialtoolz, rastertoolz\n",
      "import pandas as pd, numpy as np\n",
      "import statsmodels.api as sm\n",
      "from skimage.filter import threshold_otsu\n",
      "from sklearn.decomposition import RandomizedPCA"
     ],
     "language": "python",
     "metadata": {},
     "outputs": [],
     "prompt_number": 1
    },
    {
     "cell_type": "code",
     "collapsed": false,
     "input": [
      "#DB connection\n",
      "conn_string = \"host='localhost' dbname='bayarea' user='postgres' password='postgres' port=5432\"\n",
      "conn = psycopg2.connect(conn_string)\n",
      "cur = conn.cursor()\n",
      "\n",
      "sim.add_injectable(\"cur\", cur)\n",
      "sim.add_injectable(\"conn\", conn)"
     ],
     "language": "python",
     "metadata": {},
     "outputs": [],
     "prompt_number": 2
    },
    {
     "cell_type": "code",
     "collapsed": false,
     "input": [
      "#Load contra costa parcel geometry from postgis db\n",
      "geodf = gpd.GeoDataFrame.from_postgis('select * from parcels_contra_costa', conn, geom_col='geom')"
     ],
     "language": "python",
     "metadata": {},
     "outputs": [],
     "prompt_number": 3
    },
    {
     "cell_type": "code",
     "collapsed": false,
     "input": [
      "#Load raster imagery (satellite).  Ask EJ if you want the sample file\n",
      "array, src = rastertoolz.from_geotiff('data//10SEG835970_200804_0x0750m_CL_1.tif')\n",
      "transform = src.meta['transform']"
     ],
     "language": "python",
     "metadata": {},
     "outputs": [],
     "prompt_number": 4
    },
    {
     "cell_type": "code",
     "collapsed": false,
     "input": [
      "#Get the masked array for the imagery of each parcel; apply threshold_otsu function to each parcel's imagery\n",
      "parcel_stats, img = rastertoolz.zonal_stats(geodf, array, transform = transform, copy_properties=True, func=threshold_otsu)"
     ],
     "language": "python",
     "metadata": {},
     "outputs": [
      {
       "output_type": "stream",
       "stream": "stderr",
       "text": [
        "c:\\Anaconda\\lib\\site-packages\\numpy\\ma\\core.py:3847: UserWarning: Warning: converting a masked element to nan.\n",
        "  warnings.warn(\"Warning: converting a masked element to nan.\")\n"
       ]
      }
     ],
     "prompt_number": 5
    },
    {
     "cell_type": "code",
     "collapsed": false,
     "input": [
      "#Process/normalize the imagery data for each parcel\n",
      "images = []\n",
      "idx = []\n",
      "for i in range(len(img)):\n",
      "    pic = img[i]['img']\n",
      "    if pic is not None:\n",
      "        idx.append(img[i]['__fid__'])\n",
      "        flattened = pic.data.ravel().astype('int32')\n",
      "        images.append(np.resize(flattened, 45000))\n",
      "images_array = pd.DataFrame(np.array(images), index=idx)"
     ],
     "language": "python",
     "metadata": {},
     "outputs": [],
     "prompt_number": 6
    },
    {
     "cell_type": "code",
     "collapsed": false,
     "input": [
      "#Generate some additional imagery-based features using PCA\n",
      "pca = RandomizedPCA(n_components=5)\n",
      "X = pca.fit_transform(images_array)\n",
      "df_X = pd.DataFrame(X, index=images_array.index)\n",
      "df_X.columns = ['component1','component2','component3','component4','component5']"
     ],
     "language": "python",
     "metadata": {},
     "outputs": [],
     "prompt_number": 7
    },
    {
     "cell_type": "code",
     "collapsed": false,
     "input": [
      "#Load parcel attribute data\n",
      "cnc_parcels = spatialtoolz.db_to_df(\"\"\"SELECT b.use_code, b.tla, b.bldg_sqft, b.yr_hs_blt, b.yr_built, b.imp_val, b.land_value, b.stories, b.units, b.apn, a.parc_py_id \n",
      "FROM  parcels_contra_costa a join parcels_contra_costa_pt b on a.parc_py_id = b.parc_py_id;\"\"\")\n",
      "cnc_parcels['land_use_code'] = cnc_parcels.use_code.fillna(0).astype('int')\n",
      "cnc_parcels['sfd'] = 1*(cnc_parcels.land_use_code>=10)*(cnc_parcels.land_use_code<=29)\n",
      "cnc_parcels['building_sqft'] = cnc_parcels.tla*(cnc_parcels.sfd==1) + cnc_parcels.bldg_sqft*(cnc_parcels.sfd==0)\n",
      "cnc_parcels['year_built'] = cnc_parcels.yr_hs_blt.fillna(0).astype('int')*(cnc_parcels.sfd==1) + cnc_parcels.yr_built.fillna(0).astype('int')*(cnc_parcels.sfd==0)\n",
      "cnc_parcels['improvement_value'] = cnc_parcels.imp_val\n",
      "cnc_parcels['land_value'] = cnc_parcels.land_value\n",
      "cnc_parcels['stories'] = 1*(cnc_parcels.sfd==1) + cnc_parcels.stories*(cnc_parcels.sfd==0)\n",
      "cnc_parcels['residential_units'] = 1*(cnc_parcels.sfd==1) + cnc_parcels.units*(cnc_parcels.sfd==0)\n",
      "cnc_parcels['apn'] = cnc_parcels.apn"
     ],
     "language": "python",
     "metadata": {},
     "outputs": [],
     "prompt_number": 8
    },
    {
     "cell_type": "code",
     "collapsed": false,
     "input": [
      "#Merge the various sources of parcel information into an estimation dataset\n",
      "df = pd.DataFrame(parcel_stats)\n",
      "df_pca = pd.merge (df, df_X, left_on='__fid__', right_index=True)\n",
      "df_parcels = pd.merge(df_pca, cnc_parcels, left_on='parc_py_id', right_on='parc_py_id')"
     ],
     "language": "python",
     "metadata": {},
     "outputs": [],
     "prompt_number": 9
    },
    {
     "cell_type": "code",
     "collapsed": false,
     "input": [
      "#Dependent variable is an is_non_residential dummy\n",
      "df_parcels['non_residential'] = 0\n",
      "df_parcels['non_residential'][df_parcels.residential_units==0] = 1\n",
      "print df_parcels.non_residential.sum()"
     ],
     "language": "python",
     "metadata": {},
     "outputs": [
      {
       "output_type": "stream",
       "stream": "stdout",
       "text": [
        "191\n"
       ]
      }
     ],
     "prompt_number": 10
    },
    {
     "cell_type": "code",
     "collapsed": false,
     "input": [
      "#Estimate model\n",
      "train_cols = ['calc_area', 'max', 'mean', 'min', 'std', 'threshold_otsu', 'component1', 'component2','component3','component4','component5']\n",
      "logit = sm.Logit(df_parcels['non_residential'], df_parcels[train_cols].fillna(0))\n",
      "result = logit.fit()\n",
      "print result.summary()"
     ],
     "language": "python",
     "metadata": {},
     "outputs": [
      {
       "output_type": "stream",
       "stream": "stdout",
       "text": [
        "Optimization terminated successfully.\n",
        "         Current function value: 0.225125\n",
        "         Iterations 8\n",
        "                           Logit Regression Results                           \n",
        "==============================================================================\n",
        "Dep. Variable:        non_residential   No. Observations:                 2110\n",
        "Model:                          Logit   Df Residuals:                     2099\n",
        "Method:                           MLE   Df Model:                           10\n",
        "Date:                Mon, 01 Sep 2014   Pseudo R-squ.:                  0.2588\n",
        "Time:                        22:08:15   Log-Likelihood:                -475.01\n",
        "converged:                       True   LL-Null:                       -640.90\n",
        "                                        LLR p-value:                 2.938e-65\n",
        "==================================================================================\n",
        "                     coef    std err          z      P>|z|      [95.0% Conf. Int.]\n",
        "----------------------------------------------------------------------------------\n",
        "calc_area          0.0004   4.56e-05      9.687      0.000         0.000     0.001\n",
        "max               -0.0075      0.004     -2.049      0.040        -0.015    -0.000\n",
        "mean              -0.0326      0.006     -5.295      0.000        -0.045    -0.021\n",
        "min               -0.0342      0.022     -1.531      0.126        -0.078     0.010\n",
        "std                0.0055      0.011      0.514      0.607        -0.015     0.026\n",
        "threshold_otsu     0.0248      0.005      4.844      0.000         0.015     0.035\n",
        "component1       6.81e-05   3.01e-05      2.261      0.024      9.07e-06     0.000\n",
        "component2      6.764e-05   4.88e-05      1.386      0.166      -2.8e-05     0.000\n",
        "component3     -7.739e-06   6.39e-05     -0.121      0.904        -0.000     0.000\n",
        "component4      7.508e-05   9.16e-05      0.819      0.413        -0.000     0.000\n",
        "component5     -5.846e-05      0.000     -0.483      0.629        -0.000     0.000\n",
        "==================================================================================\n"
       ]
      }
     ],
     "prompt_number": 11
    }
   ],
   "metadata": {}
  }
 ]
}