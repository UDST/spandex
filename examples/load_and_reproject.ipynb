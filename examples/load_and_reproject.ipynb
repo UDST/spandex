{
 "metadata": {
  "name": "",
  "signature": "sha256:da959abe8c0c2a66f4a6a30cdeb7189a83366fc240bf1dc1e97fb4672bcbce59"
 },
 "nbformat": 3,
 "nbformat_minor": 0,
 "worksheets": [
  {
   "cells": [
    {
     "cell_type": "code",
     "collapsed": false,
     "input": [
      "import logging\n",
      "\n",
      "from spandex import load, spatialtoolz"
     ],
     "language": "python",
     "metadata": {},
     "outputs": [],
     "prompt_number": 1
    },
    {
     "cell_type": "code",
     "collapsed": false,
     "input": [
      "shapefiles = {'staging.parcels_contra_costa':          'parcels/contra_costa/CAD_AO_ParcelPoly_0410.shp',\n",
      "              'staging.parcels_contra_costa_pt':       'parcels/contra_costa_pt/CAD_AO_ParcelPoints_int0410.shp',\n",
      "              'staging.parcels_marin':                 'parcels/marin/Marin_2006_CWP.shp',\n",
      "              'staging.parcels_napa':                  'parcels/napa/Napa_Parcels.shp',\n",
      "              'staging.parcels_solano':                'parcels/solano/Parcels.shp',\n",
      "              'staging.parcels_sonoma':                'parcels/sonoma/PAR_PARCELS.shp',\n",
      "              'staging.boundaries_blocks':             'boundaries/blocks/block10_gba.shp',\n",
      "              'staging.boundaries_block_groups':       'boundaries/block_groups/blockgroup10_gba.shp',\n",
      "              'staging.controls_block_controls':       'controls/block_controls/block10_gba.shp',\n",
      "              'staging.controls_block_group_controls': 'controls/block_group_controls/blockgroup10_gba.shp',\n",
      "              'staging.environment_water_bodies':      'environment/water_bodies/OCEAN_BAY.shp'}\n",
      "\n",
      "# Set log level to INFO to see informational messages.\n",
      "load.logger.setLevel(logging.INFO)\n",
      "\n",
      "# Load shapefiles specified above to the project database.\n",
      "loader = load.DataLoader()\n",
      "loader.load_shp_map(shapefiles)"
     ],
     "language": "python",
     "metadata": {},
     "outputs": [
      {
       "output_type": "stream",
       "stream": "stderr",
       "text": [
        "INFO:spandex.utils:Loading table controls_block_group_controls (SRID: 26910) from file controls/block_group_controls/blockgroup10_gba.shp (encoding: UTF-8).\n"
       ]
      },
      {
       "output_type": "stream",
       "stream": "stderr",
       "text": [
        "INFO:spandex.utils:Loading table parcels_contra_costa (SRID: 2227) from file parcels/contra_costa/CAD_AO_ParcelPoly_0410.shp (encoding: UTF-8).\n"
       ]
      },
      {
       "output_type": "stream",
       "stream": "stderr",
       "text": [
        "INFO:spandex.utils:Loading table environment_water_bodies (SRID: 26910) from file environment/water_bodies/OCEAN_BAY.shp (encoding: LATIN1).\n"
       ]
      },
      {
       "output_type": "stream",
       "stream": "stderr",
       "text": [
        "INFO:spandex.utils:Loading table parcels_marin (SRID: 2872) from file parcels/marin/Marin_2006_CWP.shp (encoding: LATIN1).\n"
       ]
      },
      {
       "output_type": "stream",
       "stream": "stderr",
       "text": [
        "INFO:spandex.utils:Loading table parcels_contra_costa_pt (SRID: 2227) from file parcels/contra_costa_pt/CAD_AO_ParcelPoints_int0410.shp (encoding: UTF-8).\n"
       ]
      },
      {
       "output_type": "stream",
       "stream": "stderr",
       "text": [
        "INFO:spandex.utils:Loading table parcels_sonoma (SRID: 2226) from file parcels/sonoma/PAR_PARCELS.shp (encoding: LATIN1).\n"
       ]
      },
      {
       "output_type": "stream",
       "stream": "stderr",
       "text": [
        "INFO:spandex.utils:Loading table boundaries_block_groups (SRID: 26910) from file boundaries/block_groups/blockgroup10_gba.shp (encoding: UTF-8).\n"
       ]
      },
      {
       "output_type": "stream",
       "stream": "stderr",
       "text": [
        "INFO:spandex.utils:Loading table boundaries_blocks (SRID: 26910) from file boundaries/blocks/block10_gba.shp (encoding: UTF-8).\n"
       ]
      },
      {
       "output_type": "stream",
       "stream": "stderr",
       "text": [
        "INFO:spandex.utils:Loading table parcels_solano (SRID: 2226) from file parcels/solano/Parcels.shp (encoding: LATIN1).\n"
       ]
      },
      {
       "output_type": "stream",
       "stream": "stderr",
       "text": [
        "INFO:spandex.utils:Loading table controls_block_controls (SRID: 26910) from file controls/block_controls/block10_gba.shp (encoding: UTF-8).\n"
       ]
      },
      {
       "output_type": "stream",
       "stream": "stderr",
       "text": [
        "INFO:spandex.utils:Loading table parcels_napa (SRID: 2226) from file parcels/napa/Napa_Parcels.shp (encoding: LATIN1).\n"
       ]
      }
     ],
     "prompt_number": 2
    },
    {
     "cell_type": "code",
     "collapsed": false,
     "input": [
      "# Reproject to project SRID.\n",
      "staging = loader.database.tables.staging\n",
      "spatialtoolz.conform_srids(schema=staging)"
     ],
     "language": "python",
     "metadata": {},
     "outputs": [
      {
       "output_type": "stream",
       "stream": "stdout",
       "text": [
        "controls_block_group_controls geom 3740\n",
        "parcels_solano"
       ]
      },
      {
       "output_type": "stream",
       "stream": "stdout",
       "text": [
        " geom 3740\n",
        "parcels_contra_costa_pt"
       ]
      },
      {
       "output_type": "stream",
       "stream": "stdout",
       "text": [
        " geom 3740\n",
        "boundaries_block_groups"
       ]
      },
      {
       "output_type": "stream",
       "stream": "stdout",
       "text": [
        " geom 3740\n",
        "parcels_marin"
       ]
      },
      {
       "output_type": "stream",
       "stream": "stdout",
       "text": [
        " geom 3740\n",
        "parcels_contra_costa"
       ]
      },
      {
       "output_type": "stream",
       "stream": "stdout",
       "text": [
        " geom 3740\n",
        "boundaries_blocks"
       ]
      },
      {
       "output_type": "stream",
       "stream": "stdout",
       "text": [
        " geom 3740\n",
        "environment_water_bodies"
       ]
      },
      {
       "output_type": "stream",
       "stream": "stdout",
       "text": [
        " geom 3740\n",
        "parcels_napa"
       ]
      },
      {
       "output_type": "stream",
       "stream": "stdout",
       "text": [
        " geom 3740\n",
        "parcels_sonoma"
       ]
      },
      {
       "output_type": "stream",
       "stream": "stdout",
       "text": [
        " geom 3740\n",
        "controls_block_controls"
       ]
      },
      {
       "output_type": "stream",
       "stream": "stdout",
       "text": [
        " geom 3740\n"
       ]
      }
     ],
     "prompt_number": 5
    }
   ],
   "metadata": {}
  }
 ]
}