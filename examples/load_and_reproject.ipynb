{
 "metadata": {
  "name": "",
  "signature": "sha256:abce83b2edf4c91fe0483120561d64100a3f3b149d943255c4c15bb74eb99f14"
 },
 "nbformat": 3,
 "nbformat_minor": 0,
 "worksheets": [
  {
   "cells": [
    {
     "cell_type": "code",
     "collapsed": false,
     "input": [
      "import logging\n",
      "\n",
      "from spandex import utils, spatialtoolz"
     ],
     "language": "python",
     "metadata": {},
     "outputs": [],
     "prompt_number": 1
    },
    {
     "cell_type": "code",
     "collapsed": false,
     "input": [
      "shapefiles = {'contra_costa':         'parcels/contra_costa/CAD_AO_ParcelPoly_0410.shp',\n",
      "              'contra_costa_pt':      'parcels/contra_costa_pt/CAD_AO_ParcelPoints_int0410.shp',\n",
      "              'marin':                'parcels/marin/Marin_2006_CWP.shp',\n",
      "              'napa':                 'parcels/napa/Napa_Parcels.shp',\n",
      "              'solano':               'parcels/solano/Parcels.shp',\n",
      "              'sonoma':               'parcels/sonoma/PAR_PARCELS.shp',\n",
      "              'blocks':               'boundaries/blocks/block10_gba.shp',\n",
      "              'block_groups':         'boundaries/block_groups/blockgroup10_gba.shp',\n",
      "              'block_controls':       'controls/block_controls/block10_gba.shp',\n",
      "              'block_group_controls': 'controls/block_group_controls/blockgroup10_gba.shp',\n",
      "              'water_bodies':         'environment/water_bodies/OCEAN_BAY.shp'}\n",
      "\n",
      "# Set log level to INFO to see informational messages.\n",
      "utils.logger.setLevel(logging.INFO)\n",
      "\n",
      "# Load shapefiles specified above to the project database.\n",
      "loader = utils.DataLoader()\n",
      "loader.load_shp_map(shapefiles)"
     ],
     "language": "python",
     "metadata": {},
     "outputs": [
      {
       "output_type": "stream",
       "stream": "stderr",
       "text": [
        "INFO:spandex.utils:Loading table sonoma (SRID: 2226) from file parcels/sonoma/PAR_PARCELS.shp (encoding: LATIN1).\n"
       ]
      },
      {
       "output_type": "stream",
       "stream": "stderr",
       "text": [
        "INFO:spandex.utils:Loading table solano (SRID: 2226) from file parcels/solano/Parcels.shp (encoding: LATIN1).\n"
       ]
      },
      {
       "output_type": "stream",
       "stream": "stderr",
       "text": [
        "INFO:spandex.utils:Loading table block_groups (SRID: 26910) from file boundaries/block_groups/blockgroup10_gba.shp (encoding: UTF-8).\n"
       ]
      },
      {
       "output_type": "stream",
       "stream": "stderr",
       "text": [
        "INFO:spandex.utils:Loading table marin (SRID: 2872) from file parcels/marin/Marin_2006_CWP.shp (encoding: LATIN1).\n"
       ]
      },
      {
       "output_type": "stream",
       "stream": "stderr",
       "text": [
        "INFO:spandex.utils:Loading table water_bodies (SRID: 26910) from file environment/water_bodies/OCEAN_BAY.shp (encoding: LATIN1).\n"
       ]
      },
      {
       "output_type": "stream",
       "stream": "stderr",
       "text": [
        "INFO:spandex.utils:Loading table blocks (SRID: 26910) from file boundaries/blocks/block10_gba.shp (encoding: UTF-8).\n"
       ]
      },
      {
       "output_type": "stream",
       "stream": "stderr",
       "text": [
        "INFO:spandex.utils:Loading table block_controls (SRID: 26910) from file controls/block_controls/block10_gba.shp (encoding: UTF-8).\n"
       ]
      },
      {
       "output_type": "stream",
       "stream": "stderr",
       "text": [
        "INFO:spandex.utils:Loading table contra_costa_pt (SRID: 2227) from file parcels/contra_costa_pt/CAD_AO_ParcelPoints_int0410.shp (encoding: UTF-8).\n"
       ]
      },
      {
       "output_type": "stream",
       "stream": "stderr",
       "text": [
        "INFO:spandex.utils:Loading table contra_costa (SRID: 2227) from file parcels/contra_costa/CAD_AO_ParcelPoly_0410.shp (encoding: UTF-8).\n"
       ]
      },
      {
       "output_type": "stream",
       "stream": "stderr",
       "text": [
        "INFO:spandex.utils:Loading table napa (SRID: 2226) from file parcels/napa/Napa_Parcels.shp (encoding: LATIN1).\n"
       ]
      },
      {
       "output_type": "stream",
       "stream": "stderr",
       "text": [
        "INFO:spandex.utils:Loading table block_group_controls (SRID: 26910) from file controls/block_group_controls/blockgroup10_gba.shp (encoding: UTF-8).\n"
       ]
      }
     ],
     "prompt_number": 2
    },
    {
     "cell_type": "code",
     "collapsed": false,
     "input": [
      "#Reproject to project SRID\n",
      "spatialtoolz.conform_srids(schema='public')"
     ],
     "language": "python",
     "metadata": {},
     "outputs": [
      {
       "output_type": "stream",
       "stream": "stdout",
       "text": [
        "controls_block_group_controls geom 3740\n",
        "parcels_solano"
       ]
      },
      {
       "output_type": "stream",
       "stream": "stdout",
       "text": [
        " geom 3740\n",
        "parcels_contra_costa_pt"
       ]
      },
      {
       "output_type": "stream",
       "stream": "stdout",
       "text": [
        " geom 3740\n",
        "boundaries_block_groups"
       ]
      },
      {
       "output_type": "stream",
       "stream": "stdout",
       "text": [
        " geom 3740\n",
        "parcels_marin"
       ]
      },
      {
       "output_type": "stream",
       "stream": "stdout",
       "text": [
        " geom 3740\n",
        "parcels_contra_costa"
       ]
      },
      {
       "output_type": "stream",
       "stream": "stdout",
       "text": [
        " geom 3740\n",
        "boundaries_blocks"
       ]
      },
      {
       "output_type": "stream",
       "stream": "stdout",
       "text": [
        " geom 3740\n",
        "environment_water_bodies"
       ]
      },
      {
       "output_type": "stream",
       "stream": "stdout",
       "text": [
        " geom 3740\n",
        "parcels_napa"
       ]
      },
      {
       "output_type": "stream",
       "stream": "stdout",
       "text": [
        " geom 3740\n",
        "parcels_sonoma"
       ]
      },
      {
       "output_type": "stream",
       "stream": "stdout",
       "text": [
        " geom 3740\n",
        "controls_block_controls"
       ]
      },
      {
       "output_type": "stream",
       "stream": "stdout",
       "text": [
        " geom 3740\n"
       ]
      }
     ],
     "prompt_number": 5
    }
   ],
   "metadata": {}
  }
 ]
}