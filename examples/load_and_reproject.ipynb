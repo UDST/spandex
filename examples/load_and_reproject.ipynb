{
 "metadata": {
  "name": "",
  "signature": "sha256:28db5dc794a2abdf60a07acbe14aff8c757028ef806db4582f804cd838a8823f"
 },
 "nbformat": 3,
 "nbformat_minor": 0,
 "worksheets": [
  {
   "cells": [
    {
     "cell_type": "code",
     "collapsed": false,
     "input": [
      "import psycopg2\n",
      "from spandex import utils, spatialtoolz\n",
      "from spandex.database import database as db"
     ],
     "language": "python",
     "metadata": {},
     "outputs": [],
     "prompt_number": 1
    },
    {
     "cell_type": "code",
     "collapsed": false,
     "input": [
      "data_dir = 'C:\\\\mtc\\\\data'\n",
      "config_dir = 'C:\\\\mtc\\\\bayarea_urbansim\\\\data_regeneration\\\\configs'\n",
      "\n",
      "shapefiles = {'parcels' : \n",
      "                  {'contra_costa':('CAD_AO_ParcelPoly_0410.shp', 2227),\n",
      "                  'contra_costa_pt':('CAD_AO_ParcelPoints_int0410.shp', 2227),\n",
      "                  'marin':('Marin_2006_CWP.shp', 2872),\n",
      "                  'napa':('Napa_Parcels.shp', 2226),\n",
      "                  'solano':('Parcels.shp', 2226),\n",
      "                  'sonoma':('PAR_PARCELS.shp', 2226),\n",
      "                  },\n",
      "              'boundaries' :\n",
      "                  {'blocks':('block10_gba.shp', 26910),\n",
      "                   'block_groups':('blockgroup10_gba.shp',26910),\n",
      "                  },\n",
      "              'controls' : \n",
      "                  {'block_controls':('block10_gba.shp', 26910),\n",
      "                   'block_group_controls':('blockgroup10_gba.shp',26910),\n",
      "                  },\n",
      "              'environment' :\n",
      "                  {'water_bodies':('OCEAN_BAY.shp', 26910),\n",
      "                  }\n",
      "              }"
     ],
     "language": "python",
     "metadata": {},
     "outputs": [],
     "prompt_number": 2
    },
    {
     "cell_type": "code",
     "collapsed": false,
     "input": [
      "#Load shapefiles/SRIDs specified above to the project database\n",
      "utils.load_multiple_shp(shapefiles, data_dir, config_dir)"
     ],
     "language": "python",
     "metadata": {},
     "outputs": [
      {
       "output_type": "stream",
       "stream": "stdout",
       "text": [
        "Loading block_groups.\n",
        "Loading blocks."
       ]
      },
      {
       "output_type": "stream",
       "stream": "stdout",
       "text": [
        "\n",
        "Loading water_bodies."
       ]
      },
      {
       "output_type": "stream",
       "stream": "stdout",
       "text": [
        "\n",
        "Loading sonoma."
       ]
      },
      {
       "output_type": "stream",
       "stream": "stdout",
       "text": [
        "\n",
        "Loading solano."
       ]
      },
      {
       "output_type": "stream",
       "stream": "stdout",
       "text": [
        "\n",
        "Loading contra_costa_pt."
       ]
      },
      {
       "output_type": "stream",
       "stream": "stdout",
       "text": [
        "\n",
        "Loading marin."
       ]
      },
      {
       "output_type": "stream",
       "stream": "stdout",
       "text": [
        "\n",
        "Loading contra_costa."
       ]
      },
      {
       "output_type": "stream",
       "stream": "stdout",
       "text": [
        "\n",
        "Loading napa."
       ]
      },
      {
       "output_type": "stream",
       "stream": "stdout",
       "text": [
        "\n",
        "Loading block_controls."
       ]
      },
      {
       "output_type": "stream",
       "stream": "stdout",
       "text": [
        "\n",
        "Loading block_group_controls."
       ]
      },
      {
       "output_type": "stream",
       "stream": "stdout",
       "text": [
        "\n"
       ]
      }
     ],
     "prompt_number": 3
    },
    {
     "cell_type": "code",
     "collapsed": false,
     "input": [
      "conn_string = \"host='localhost' dbname='bayarea' user='postgres' password='postgres' port=5432\"\n",
      "db.connect(conn_string)"
     ],
     "language": "python",
     "metadata": {},
     "outputs": [],
     "prompt_number": 4
    },
    {
     "cell_type": "code",
     "collapsed": false,
     "input": [
      "#Reproject to project SRID\n",
      "spatialtoolz.conform_srids(config_dir, schema='public')"
     ],
     "language": "python",
     "metadata": {},
     "outputs": [
      {
       "output_type": "stream",
       "stream": "stdout",
       "text": [
        "controls_block_group_controls geom 3740\n",
        "parcels_solano"
       ]
      },
      {
       "output_type": "stream",
       "stream": "stdout",
       "text": [
        " geom 3740\n",
        "parcels_contra_costa_pt"
       ]
      },
      {
       "output_type": "stream",
       "stream": "stdout",
       "text": [
        " geom 3740\n",
        "boundaries_block_groups"
       ]
      },
      {
       "output_type": "stream",
       "stream": "stdout",
       "text": [
        " geom 3740\n",
        "parcels_marin"
       ]
      },
      {
       "output_type": "stream",
       "stream": "stdout",
       "text": [
        " geom 3740\n",
        "parcels_contra_costa"
       ]
      },
      {
       "output_type": "stream",
       "stream": "stdout",
       "text": [
        " geom 3740\n",
        "boundaries_blocks"
       ]
      },
      {
       "output_type": "stream",
       "stream": "stdout",
       "text": [
        " geom 3740\n",
        "environment_water_bodies"
       ]
      },
      {
       "output_type": "stream",
       "stream": "stdout",
       "text": [
        " geom 3740\n",
        "parcels_napa"
       ]
      },
      {
       "output_type": "stream",
       "stream": "stdout",
       "text": [
        " geom 3740\n",
        "parcels_sonoma"
       ]
      },
      {
       "output_type": "stream",
       "stream": "stdout",
       "text": [
        " geom 3740\n",
        "controls_block_controls"
       ]
      },
      {
       "output_type": "stream",
       "stream": "stdout",
       "text": [
        " geom 3740\n"
       ]
      }
     ],
     "prompt_number": 5
    },
    {
     "cell_type": "code",
     "collapsed": false,
     "input": [],
     "language": "python",
     "metadata": {},
     "outputs": [],
     "prompt_number": 5
    }
   ],
   "metadata": {}
  }
 ]
}