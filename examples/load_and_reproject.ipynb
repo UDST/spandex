{
 "metadata": {
  "name": "",
  "signature": "sha256:77590db66df2ab2d2407931952dc8bc523c062538406fcb693aabb7b8a542eb2"
 },
 "nbformat": 3,
 "nbformat_minor": 0,
 "worksheets": [
  {
   "cells": [
    {
     "cell_type": "code",
     "collapsed": false,
     "input": [
      "from spandex import utils, spatialtoolz"
     ],
     "language": "python",
     "metadata": {},
     "outputs": [],
     "prompt_number": 1
    },
    {
     "cell_type": "code",
     "collapsed": false,
     "input": [
      "shapefiles = {'parcels' : \n",
      "                  {'alameda':('asr_parcel.shp', 2227),  ##SRID 2227.  #Contains the parcel geometry we need\n",
      "                  }\n",
      "             }\n",
      "\n",
      "#Load shapefiles/SRIDs specified above to the project database\n",
      "utils.load_multiple_shp(shapefiles)\n",
      "\n",
      "#Reproject to project SRID\n",
      "spatialtoolz.conform_srids(schema='public')"
     ],
     "language": "python",
     "metadata": {},
     "outputs": [
      {
       "ename": "NoSectionError",
       "evalue": "No section: 'data'",
       "output_type": "pyerr",
       "traceback": [
        "\u001b[0;31m---------------------------------------------------------------------------\u001b[0m\n\u001b[0;31mNoSectionError\u001b[0m                            Traceback (most recent call last)",
        "\u001b[0;32m<ipython-input-2-db04067fdb23>\u001b[0m in \u001b[0;36m<module>\u001b[0;34m()\u001b[0m\n\u001b[1;32m      5\u001b[0m \u001b[0;34m\u001b[0m\u001b[0m\n\u001b[1;32m      6\u001b[0m \u001b[0;31m#Load shapefiles/SRIDs specified above to the project database\u001b[0m\u001b[0;34m\u001b[0m\u001b[0;34m\u001b[0m\u001b[0m\n\u001b[0;32m----> 7\u001b[0;31m \u001b[0mutils\u001b[0m\u001b[0;34m.\u001b[0m\u001b[0mload_multiple_shp\u001b[0m\u001b[0;34m(\u001b[0m\u001b[0mshapefiles\u001b[0m\u001b[0;34m)\u001b[0m\u001b[0;34m\u001b[0m\u001b[0m\n\u001b[0m\u001b[1;32m      8\u001b[0m \u001b[0;34m\u001b[0m\u001b[0m\n\u001b[1;32m      9\u001b[0m \u001b[0;31m#Reproject to project SRID\u001b[0m\u001b[0;34m\u001b[0m\u001b[0;34m\u001b[0m\u001b[0m\n",
        "\u001b[0;32m//anaconda/lib/python2.7/site-packages/spandex-0.1dev-py2.7.egg/spandex/utils.pyc\u001b[0m in \u001b[0;36mload_multiple_shp\u001b[0;34m(shapefiles, config_filename)\u001b[0m\n\u001b[1;32m    231\u001b[0m         \u001b[0;32mreturn\u001b[0m \u001b[0mfunc\u001b[0m\u001b[0;34m\u001b[0m\u001b[0m\n\u001b[1;32m    232\u001b[0m \u001b[0;34m\u001b[0m\u001b[0m\n\u001b[0;32m--> 233\u001b[0;31m     \u001b[0mloader\u001b[0m \u001b[0;34m=\u001b[0m \u001b[0mDataLoader\u001b[0m\u001b[0;34m(\u001b[0m\u001b[0mconfig_filename\u001b[0m\u001b[0;34m)\u001b[0m\u001b[0;34m\u001b[0m\u001b[0m\n\u001b[0m\u001b[1;32m    234\u001b[0m \u001b[0;34m\u001b[0m\u001b[0m\n\u001b[1;32m    235\u001b[0m     \u001b[0;32mfor\u001b[0m \u001b[0mshape_category\u001b[0m \u001b[0;32min\u001b[0m \u001b[0mshapefiles\u001b[0m\u001b[0;34m:\u001b[0m\u001b[0;34m\u001b[0m\u001b[0m\n",
        "\u001b[0;32m//anaconda/lib/python2.7/site-packages/spandex-0.1dev-py2.7.egg/spandex/utils.pyc\u001b[0m in \u001b[0;36m__init__\u001b[0;34m(self, config_filename, database, directory, srid)\u001b[0m\n\u001b[1;32m     96\u001b[0m             \u001b[0mdatabase\u001b[0m \u001b[0;34m=\u001b[0m \u001b[0mdb\u001b[0m\u001b[0;34m\u001b[0m\u001b[0m\n\u001b[1;32m     97\u001b[0m         \u001b[0;32mif\u001b[0m \u001b[0;32mnot\u001b[0m \u001b[0mdirectory\u001b[0m\u001b[0;34m:\u001b[0m\u001b[0;34m\u001b[0m\u001b[0m\n\u001b[0;32m---> 98\u001b[0;31m             \u001b[0mdirectory\u001b[0m \u001b[0;34m=\u001b[0m \u001b[0mconfig\u001b[0m\u001b[0;34m.\u001b[0m\u001b[0mget\u001b[0m\u001b[0;34m(\u001b[0m\u001b[0;34m'data'\u001b[0m\u001b[0;34m,\u001b[0m \u001b[0;34m'directory'\u001b[0m\u001b[0;34m)\u001b[0m\u001b[0;34m\u001b[0m\u001b[0m\n\u001b[0m\u001b[1;32m     99\u001b[0m         \u001b[0;32mif\u001b[0m \u001b[0;32mnot\u001b[0m \u001b[0msrid\u001b[0m\u001b[0;34m:\u001b[0m\u001b[0;34m\u001b[0m\u001b[0m\n\u001b[1;32m    100\u001b[0m             \u001b[0msrid\u001b[0m \u001b[0;34m=\u001b[0m \u001b[0mconfig\u001b[0m\u001b[0;34m.\u001b[0m\u001b[0mget\u001b[0m\u001b[0;34m(\u001b[0m\u001b[0;34m'data'\u001b[0m\u001b[0;34m,\u001b[0m \u001b[0;34m'srid'\u001b[0m\u001b[0;34m)\u001b[0m\u001b[0;34m\u001b[0m\u001b[0m\n",
        "\u001b[0;32m//anaconda/python.app/Contents/lib/python2.7/ConfigParser.pyc\u001b[0m in \u001b[0;36mget\u001b[0;34m(self, section, option)\u001b[0m\n\u001b[1;32m    328\u001b[0m         \u001b[0;32mif\u001b[0m \u001b[0msection\u001b[0m \u001b[0;32mnot\u001b[0m \u001b[0;32min\u001b[0m \u001b[0mself\u001b[0m\u001b[0;34m.\u001b[0m\u001b[0m_sections\u001b[0m\u001b[0;34m:\u001b[0m\u001b[0;34m\u001b[0m\u001b[0m\n\u001b[1;32m    329\u001b[0m             \u001b[0;32mif\u001b[0m \u001b[0msection\u001b[0m \u001b[0;34m!=\u001b[0m \u001b[0mDEFAULTSECT\u001b[0m\u001b[0;34m:\u001b[0m\u001b[0;34m\u001b[0m\u001b[0m\n\u001b[0;32m--> 330\u001b[0;31m                 \u001b[0;32mraise\u001b[0m \u001b[0mNoSectionError\u001b[0m\u001b[0;34m(\u001b[0m\u001b[0msection\u001b[0m\u001b[0;34m)\u001b[0m\u001b[0;34m\u001b[0m\u001b[0m\n\u001b[0m\u001b[1;32m    331\u001b[0m             \u001b[0;32mif\u001b[0m \u001b[0mopt\u001b[0m \u001b[0;32min\u001b[0m \u001b[0mself\u001b[0m\u001b[0;34m.\u001b[0m\u001b[0m_defaults\u001b[0m\u001b[0;34m:\u001b[0m\u001b[0;34m\u001b[0m\u001b[0m\n\u001b[1;32m    332\u001b[0m                 \u001b[0;32mreturn\u001b[0m \u001b[0mself\u001b[0m\u001b[0;34m.\u001b[0m\u001b[0m_defaults\u001b[0m\u001b[0;34m[\u001b[0m\u001b[0mopt\u001b[0m\u001b[0;34m]\u001b[0m\u001b[0;34m\u001b[0m\u001b[0m\n",
        "\u001b[0;31mNoSectionError\u001b[0m: No section: 'data'"
       ]
      }
     ],
     "prompt_number": 2
    },
    {
     "cell_type": "code",
     "collapsed": false,
     "input": [
      "shapefiles = {'parcels' : \n",
      "                  {'contra_costa':('CAD_AO_ParcelPoly_0410.shp', 2227),\n",
      "                  'contra_costa_pt':('CAD_AO_ParcelPoints_int0410.shp', 2227),\n",
      "                  'marin':('Marin_2006_CWP.shp', 2872),\n",
      "                  'napa':('Napa_Parcels.shp', 2226),\n",
      "                  'solano':('Parcels.shp', 2226),\n",
      "                  'sonoma':('PAR_PARCELS.shp', 2226),\n",
      "                  },\n",
      "              'boundaries' :\n",
      "                  {'blocks':('block10_gba.shp', 26910),\n",
      "                   'block_groups':('blockgroup10_gba.shp',26910),\n",
      "                  },\n",
      "              'controls' : \n",
      "                  {'block_controls':('block10_gba.shp', 26910),\n",
      "                   'block_group_controls':('blockgroup10_gba.shp',26910),\n",
      "                  },\n",
      "              'environment' :\n",
      "                  {'water_bodies':('OCEAN_BAY.shp', 26910),\n",
      "                  }\n",
      "              }"
     ],
     "language": "python",
     "metadata": {},
     "outputs": [],
     "prompt_number": 2
    },
    {
     "cell_type": "code",
     "collapsed": false,
     "input": [
      "#Load shapefiles/SRIDs specified above to the project database\n",
      "utils.load_multiple_shp(shapefiles)"
     ],
     "language": "python",
     "metadata": {},
     "outputs": [
      {
       "output_type": "stream",
       "stream": "stdout",
       "text": [
        "Loading block_groups.\n",
        "Loading blocks."
       ]
      },
      {
       "output_type": "stream",
       "stream": "stdout",
       "text": [
        "\n",
        "Loading water_bodies."
       ]
      },
      {
       "output_type": "stream",
       "stream": "stdout",
       "text": [
        "\n",
        "Loading sonoma."
       ]
      },
      {
       "output_type": "stream",
       "stream": "stdout",
       "text": [
        "\n",
        "Loading solano."
       ]
      },
      {
       "output_type": "stream",
       "stream": "stdout",
       "text": [
        "\n",
        "Loading contra_costa_pt."
       ]
      },
      {
       "output_type": "stream",
       "stream": "stdout",
       "text": [
        "\n",
        "Loading marin."
       ]
      },
      {
       "output_type": "stream",
       "stream": "stdout",
       "text": [
        "\n",
        "Loading contra_costa."
       ]
      },
      {
       "output_type": "stream",
       "stream": "stdout",
       "text": [
        "\n",
        "Loading napa."
       ]
      },
      {
       "output_type": "stream",
       "stream": "stdout",
       "text": [
        "\n",
        "Loading block_controls."
       ]
      },
      {
       "output_type": "stream",
       "stream": "stdout",
       "text": [
        "\n",
        "Loading block_group_controls."
       ]
      },
      {
       "output_type": "stream",
       "stream": "stdout",
       "text": [
        "\n"
       ]
      }
     ],
     "prompt_number": 3
    },
    {
     "cell_type": "code",
     "collapsed": false,
     "input": [
      "#Reproject to project SRID\n",
      "spatialtoolz.conform_srids(schema='public')"
     ],
     "language": "python",
     "metadata": {},
     "outputs": [
      {
       "output_type": "stream",
       "stream": "stdout",
       "text": [
        "controls_block_group_controls geom 3740\n",
        "parcels_solano"
       ]
      },
      {
       "output_type": "stream",
       "stream": "stdout",
       "text": [
        " geom 3740\n",
        "parcels_contra_costa_pt"
       ]
      },
      {
       "output_type": "stream",
       "stream": "stdout",
       "text": [
        " geom 3740\n",
        "boundaries_block_groups"
       ]
      },
      {
       "output_type": "stream",
       "stream": "stdout",
       "text": [
        " geom 3740\n",
        "parcels_marin"
       ]
      },
      {
       "output_type": "stream",
       "stream": "stdout",
       "text": [
        " geom 3740\n",
        "parcels_contra_costa"
       ]
      },
      {
       "output_type": "stream",
       "stream": "stdout",
       "text": [
        " geom 3740\n",
        "boundaries_blocks"
       ]
      },
      {
       "output_type": "stream",
       "stream": "stdout",
       "text": [
        " geom 3740\n",
        "environment_water_bodies"
       ]
      },
      {
       "output_type": "stream",
       "stream": "stdout",
       "text": [
        " geom 3740\n",
        "parcels_napa"
       ]
      },
      {
       "output_type": "stream",
       "stream": "stdout",
       "text": [
        " geom 3740\n",
        "parcels_sonoma"
       ]
      },
      {
       "output_type": "stream",
       "stream": "stdout",
       "text": [
        " geom 3740\n",
        "controls_block_controls"
       ]
      },
      {
       "output_type": "stream",
       "stream": "stdout",
       "text": [
        " geom 3740\n"
       ]
      }
     ],
     "prompt_number": 5
    }
   ],
   "metadata": {}
  }
 ]
}