{
 "metadata": {
  "name": "",
  "signature": "sha256:2bee79e4d3365f88e0f8609d5a72f9bcfcf0a4dae2c2a9e75588a5414201dfa9"
 },
 "nbformat": 3,
 "nbformat_minor": 0,
 "worksheets": [
  {
   "cells": [
    {
     "cell_type": "code",
     "collapsed": false,
     "input": [
      "from spandex import utils, spatialtoolz"
     ],
     "language": "python",
     "metadata": {},
     "outputs": []
    },
    {
     "cell_type": "code",
     "collapsed": false,
     "input": [
      "# Connect to database if not already connected.\n",
      "loader = utils.DataLoader()\n",
      "\n",
      "# Load a delimited file to the database with the specified table name.\n",
      "file_path = 'C:/mtc/data/parcels/alameda/IE670c.txt'\n",
      "spatialtoolz.load_delimited_file(file_path, 'alameda_parcel_data', delimiter='\\t')"
     ],
     "language": "python",
     "metadata": {},
     "outputs": []
    }
   ],
   "metadata": {}
  }
 ]
}