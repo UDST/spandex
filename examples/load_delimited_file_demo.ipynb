{
 "metadata": {
  "name": "",
  "signature": "sha256:fe5e832fb6940c5ddaf2031f7f3acd175de03b6e9b4c579836530911498dfce4"
 },
 "nbformat": 3,
 "nbformat_minor": 0,
 "worksheets": [
  {
   "cells": [
    {
     "cell_type": "code",
     "collapsed": false,
     "input": [
      "import psycopg2\n",
      "from spandex import utils, spatialtoolz\n",
      "from spandex.database import database as db"
     ],
     "language": "python",
     "metadata": {},
     "outputs": [],
     "prompt_number": 1
    },
    {
     "cell_type": "code",
     "collapsed": false,
     "input": [
      "conn_string = \"host='localhost' dbname='bayarea' user='postgres' password='postgres' port=5432\"\n",
      "db.connect(conn_string)"
     ],
     "language": "python",
     "metadata": {},
     "outputs": [],
     "prompt_number": 3
    },
    {
     "cell_type": "code",
     "collapsed": false,
     "input": [
      "file_path = 'C:\\\\mtc\\\\data\\\\parcels\\\\alameda\\\\IE670c.txt'"
     ],
     "language": "python",
     "metadata": {},
     "outputs": [],
     "prompt_number": 4
    },
    {
     "cell_type": "code",
     "collapsed": false,
     "input": [
      "#Load a delimited file to the database with the specified table name\n",
      "spatialtoolz.load_delimited_file(file_path, 'alameda_parcel_data', delimiter='\\t')"
     ],
     "language": "python",
     "metadata": {},
     "outputs": [],
     "prompt_number": 6
    }
   ],
   "metadata": {}
  }
 ]
}