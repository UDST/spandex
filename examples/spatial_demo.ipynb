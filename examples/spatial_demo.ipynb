{
 "metadata": {
  "name": "",
  "signature": "sha256:3bbf5e4e02b29cef1dec2f84e25ddee75eef15ead6e6d13b644c6a8b69409329"
 },
 "nbformat": 3,
 "nbformat_minor": 0,
 "worksheets": [
  {
   "cells": [
    {
     "cell_type": "code",
     "collapsed": false,
     "input": [
      "import psycopg2\n",
      "import urbansim.sim.simulation as sim\n",
      "from spandex import spatialtoolz"
     ],
     "language": "python",
     "metadata": {},
     "outputs": [],
     "prompt_number": 1
    },
    {
     "cell_type": "code",
     "collapsed": false,
     "input": [
      "conn_string = \"host='localhost' dbname='bayarea' user='postgres' password='postgres' port=5432\"\n",
      "conn = psycopg2.connect(conn_string)\n",
      "cur = conn.cursor()\n",
      "\n",
      "sim.add_injectable(\"cur\", cur)\n",
      "sim.add_injectable(\"conn\", conn)"
     ],
     "language": "python",
     "metadata": {},
     "outputs": [],
     "prompt_number": 2
    },
    {
     "cell_type": "code",
     "collapsed": false,
     "input": [
      "#Tag parcels with block group id\n",
      "spatialtoolz.tag(\"parcels_contra_costa\", \"bg_id\", \"boundaries_block_groups\", \"objectid\")"
     ],
     "language": "python",
     "metadata": {},
     "outputs": [
      {
       "output_type": "stream",
       "stream": "stdout",
       "text": [
        "Wall time: 1min 1s\n"
       ]
      }
     ],
     "prompt_number": 3
    },
    {
     "cell_type": "code",
     "collapsed": false,
     "input": [
      "#Get diagnostics (invalid and duplicate, stacked geoms)\n",
      "invalid = spatialtoolz.invalid_geometry_diagnostic('parcels_solano', 'objectid')\n",
      "stacked = spatialtoolz.duplicate_stacked_geometry_diagnostic('parcels_solano')"
     ],
     "language": "python",
     "metadata": {},
     "outputs": [],
     "prompt_number": 4
    },
    {
     "cell_type": "code",
     "collapsed": false,
     "input": [
      "#Calculate proportion overlap between parcels and something else\n",
      "spatialtoolz.proportion_overlap('parcels_contra_costa', 'environment_water_bodies', 'proportion_water')"
     ],
     "language": "python",
     "metadata": {},
     "outputs": []
    },
    {
     "cell_type": "code",
     "collapsed": false,
     "input": [],
     "language": "python",
     "metadata": {},
     "outputs": []
    }
   ],
   "metadata": {}
  }
 ]
}