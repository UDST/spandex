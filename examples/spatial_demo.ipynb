{
 "metadata": {
  "name": "",
  "signature": "sha256:bd4ee2ed8655cbce6e90fad766867551b819e9f8d6a52d971d0d56f53b28034c"
 },
 "nbformat": 3,
 "nbformat_minor": 0,
 "worksheets": [
  {
   "cells": [
    {
     "cell_type": "code",
     "collapsed": false,
     "input": [
      "import urbansim.sim.simulation as sim\n",
      "from spandex import spatialtoolz, utils"
     ],
     "language": "python",
     "metadata": {},
     "outputs": [],
     "prompt_number": 1
    },
    {
     "cell_type": "code",
     "collapsed": false,
     "input": [
      "# Connect to database if not already connected.\n",
      "loader = utils.DataLoader()"
     ],
     "language": "python",
     "metadata": {},
     "outputs": [],
     "prompt_number": 2
    },
    {
     "cell_type": "code",
     "collapsed": false,
     "input": [
      "#Tag parcels with block group id\n",
      "spatialtoolz.tag(\"parcels_contra_costa\", \"bg_id\", \"boundaries_block_groups\", \"objectid\")"
     ],
     "language": "python",
     "metadata": {},
     "outputs": [
      {
       "output_type": "stream",
       "stream": "stdout",
       "text": [
        "Wall time: 1min 1s\n"
       ]
      }
     ],
     "prompt_number": 3
    },
    {
     "cell_type": "code",
     "collapsed": false,
     "input": [
      "#Get diagnostics (invalid and duplicate, stacked geoms)\n",
      "invalid = spatialtoolz.invalid_geometry_diagnostic('parcels_solano', 'objectid')\n",
      "stacked = spatialtoolz.duplicate_stacked_geometry_diagnostic('parcels_solano')"
     ],
     "language": "python",
     "metadata": {},
     "outputs": [],
     "prompt_number": 4
    },
    {
     "cell_type": "code",
     "collapsed": false,
     "input": [
      "#Calculate proportion overlap between parcels and something else\n",
      "spatialtoolz.proportion_overlap('parcels_contra_costa', 'environment_water_bodies', 'proportion_water')"
     ],
     "language": "python",
     "metadata": {},
     "outputs": []
    }
   ],
   "metadata": {}
  }
 ]
}