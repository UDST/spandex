{
 "metadata": {
  "name": "",
  "signature": "sha256:3d23ed27ff70ae6ff219aa34f31f79e5c5f4edd9d76ea67f204bb533161d7eee"
 },
 "nbformat": 3,
 "nbformat_minor": 0,
 "worksheets": [
  {
   "cells": [
    {
     "cell_type": "code",
     "collapsed": false,
     "input": [
      "import psycopg2\n",
      "import urbansim.sim.simulation as sim\n",
      "from spandex import spatialtoolz\n",
      "from spandex.database import database as db"
     ],
     "language": "python",
     "metadata": {},
     "outputs": [],
     "prompt_number": 1
    },
    {
     "cell_type": "code",
     "collapsed": false,
     "input": [
      "conn_string = \"host='localhost' dbname='bayarea' user='postgres' password='postgres' port=5432\"\n",
      "db.connect(conn_string)"
     ],
     "language": "python",
     "metadata": {},
     "outputs": [],
     "prompt_number": 2
    },
    {
     "cell_type": "code",
     "collapsed": false,
     "input": [
      "#Tag parcels with block group id\n",
      "spatialtoolz.tag(\"parcels_contra_costa\", \"bg_id\", \"boundaries_block_groups\", \"objectid\")"
     ],
     "language": "python",
     "metadata": {},
     "outputs": [
      {
       "output_type": "stream",
       "stream": "stdout",
       "text": [
        "Wall time: 1min 1s\n"
       ]
      }
     ],
     "prompt_number": 3
    },
    {
     "cell_type": "code",
     "collapsed": false,
     "input": [
      "#Get diagnostics (invalid and duplicate, stacked geoms)\n",
      "invalid = spatialtoolz.invalid_geometry_diagnostic('parcels_solano', 'objectid')\n",
      "stacked = spatialtoolz.duplicate_stacked_geometry_diagnostic('parcels_solano')"
     ],
     "language": "python",
     "metadata": {},
     "outputs": [],
     "prompt_number": 4
    },
    {
     "cell_type": "code",
     "collapsed": false,
     "input": [
      "#Calculate proportion overlap between parcels and something else\n",
      "spatialtoolz.proportion_overlap('parcels_contra_costa', 'environment_water_bodies', 'proportion_water')"
     ],
     "language": "python",
     "metadata": {},
     "outputs": []
    },
    {
     "cell_type": "code",
     "collapsed": false,
     "input": [],
     "language": "python",
     "metadata": {},
     "outputs": []
    }
   ],
   "metadata": {}
  }
 ]
}