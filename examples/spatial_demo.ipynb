{
 "metadata": {
  "name": "",
  "signature": "sha256:7536dce4fa35ef09b111c21b30af2ff96e8765a4dab9b0141c2892f3da5653df"
 },
 "nbformat": 3,
 "nbformat_minor": 0,
 "worksheets": [
  {
   "cells": [
    {
     "cell_type": "heading",
     "level": 1,
     "metadata": {},
     "source": [
      "spandex spatial operations"
     ]
    },
    {
     "cell_type": "code",
     "collapsed": false,
     "input": [
      "import os\n",
      "\n",
      "from spandex.load import DataLoader\n",
      "from spandex import io, spatialtoolz"
     ],
     "language": "python",
     "metadata": {},
     "outputs": [],
     "prompt_number": 1
    },
    {
     "cell_type": "heading",
     "level": 2,
     "metadata": {},
     "source": [
      "Reload database from shapefile inputs"
     ]
    },
    {
     "cell_type": "code",
     "collapsed": false,
     "input": [
      "# Connect to database if not already connected.\n",
      "loader = DataLoader()\n",
      "\n",
      "# Recreate PostgreSQL sample schema.\n",
      "with loader.database.cursor() as cur:\n",
      "    cur.execute(\"\"\"\n",
      "        CREATE EXTENSION IF NOT EXISTS postgis;\n",
      "        DROP SCHEMA IF EXISTS sample CASCADE;\n",
      "        CREATE SCHEMA sample;\n",
      "    \"\"\")\n",
      "loader.database.refresh()\n",
      "\n",
      "# Load all shapefiles in test data directory.\n",
      "data_path = '../test_data'\n",
      "for filename in os.listdir(data_path):\n",
      "    file_root, file_ext = os.path.splitext(filename)\n",
      "    if file_ext.lower() == '.shp':\n",
      "        shp_path = os.path.join(data_path, filename)\n",
      "        table_name = 'sample.' + file_root\n",
      "        loader.load_shp(filename, table_name)\n",
      "\n",
      "# Assign shorter variable names for convenience.\n",
      "t = loader.database.tables.sample\n",
      "parcels = t.heather_farms\n",
      "bg = t.hf_bg\n",
      "water = t.hf_water"
     ],
     "language": "python",
     "metadata": {},
     "outputs": [],
     "prompt_number": 2
    },
    {
     "cell_type": "heading",
     "level": 2,
     "metadata": {},
     "source": [
      "Function examples"
     ]
    },
    {
     "cell_type": "code",
     "collapsed": false,
     "input": [
      "# conform_srid\n",
      "print(spatialtoolz.conform_srids.__doc__)\n",
      "print(\"Reprojecting to project SRID: {}\".format(loader.srid))\n",
      "spatialtoolz.conform_srids(loader.srid, schema=t)"
     ],
     "language": "python",
     "metadata": {},
     "outputs": [
      {
       "output_type": "stream",
       "stream": "stdout",
       "text": [
        "\n",
        "    Reproject all non-conforming geometry columns into the specified SRID.\n",
        "\n",
        "    Parameters\n",
        "    ----------\n",
        "    srid : int\n",
        "        Spatial Reference System Identifier (SRID).\n",
        "    schema : schema class\n",
        "        If schema is specified, only SRIDs within the specified schema\n",
        "        are conformed.\n",
        "\n",
        "    Returns\n",
        "    -------\n",
        "    None\n",
        "\n",
        "    \n",
        "Reprojecting to project SRID: 2768\n"
       ]
      }
     ],
     "prompt_number": 3
    },
    {
     "cell_type": "code",
     "collapsed": false,
     "input": [
      "# geom_invalid\n",
      "print(spatialtoolz.geom_invalid.__doc__)\n",
      "spatialtoolz.geom_invalid(parcels, index=parcels.parcel_id)"
     ],
     "language": "python",
     "metadata": {},
     "outputs": [
      {
       "output_type": "stream",
       "stream": "stdout",
       "text": [
        "\n",
        "    Return DataFrame with information on records with invalid geometry.\n",
        "\n",
        "    Returned columns include record identifier, whether geometry is simple,\n",
        "    and reason for invalidity.\n",
        "\n",
        "    Parameters\n",
        "    ----------\n",
        "    table : sqlalchemy.ext.declarative.DeclarativeMeta\n",
        "        Table ORM class to diagnose.\n",
        "    index : sqlalchemy.orm.attributes.InstrumentedAttribute, optional\n",
        "        Column ORM object to use as index.\n",
        "\n",
        "    Returns\n",
        "    -------\n",
        "    df : pandas.DataFrame\n",
        "\n",
        "    \n"
       ]
      },
      {
       "html": [
        "<div style=\"max-height:1000px;max-width:1500px;overflow:auto;\">\n",
        "<table border=\"1\" class=\"dataframe\">\n",
        "  <thead>\n",
        "    <tr style=\"text-align: right;\">\n",
        "      <th></th>\n",
        "      <th>simple</th>\n",
        "      <th>reason</th>\n",
        "      <th>geom</th>\n",
        "    </tr>\n",
        "    <tr>\n",
        "      <th>parcel_id</th>\n",
        "      <th></th>\n",
        "      <th></th>\n",
        "      <th></th>\n",
        "    </tr>\n",
        "  </thead>\n",
        "  <tbody>\n",
        "  </tbody>\n",
        "</table>\n",
        "</div>"
       ],
       "metadata": {},
       "output_type": "pyout",
       "prompt_number": 4,
       "text": [
        "Empty DataFrame\n",
        "Columns: [simple, reason, geom]\n",
        "Index: []"
       ]
      }
     ],
     "prompt_number": 4
    },
    {
     "cell_type": "code",
     "collapsed": false,
     "input": [
      "# geom_duplicate\n",
      "print(spatialtoolz.geom_duplicate.__doc__)\n",
      "spatialtoolz.geom_duplicate(parcels)"
     ],
     "language": "python",
     "metadata": {},
     "outputs": [
      {
       "output_type": "stream",
       "stream": "stdout",
       "text": [
        "\n",
        "    Return DataFrame with all records that have identical, stacked geometry.\n",
        "\n",
        "    Parameters\n",
        "    ----------\n",
        "    table : sqlalchemy.ext.declarative.DeclarativeMeta\n",
        "        Table ORM class to diagnose.\n",
        "\n",
        "    Returns\n",
        "    -------\n",
        "    df : pandas.DataFrame\n",
        "\n",
        "    \n"
       ]
      },
      {
       "html": [
        "<div style=\"max-height:1000px;max-width:1500px;overflow:auto;\">\n",
        "<table border=\"1\" class=\"dataframe\">\n",
        "  <thead>\n",
        "    <tr style=\"text-align: right;\">\n",
        "      <th></th>\n",
        "      <th>gid</th>\n",
        "      <th>parcel_id</th>\n",
        "      <th>puid</th>\n",
        "      <th>county</th>\n",
        "      <th>shape_leng</th>\n",
        "      <th>shape_area</th>\n",
        "      <th>city</th>\n",
        "      <th>centroid</th>\n",
        "      <th>parcel_acr</th>\n",
        "      <th>geom</th>\n",
        "    </tr>\n",
        "  </thead>\n",
        "  <tbody>\n",
        "  </tbody>\n",
        "</table>\n",
        "</div>"
       ],
       "metadata": {},
       "output_type": "pyout",
       "prompt_number": 5,
       "text": [
        "Empty DataFrame\n",
        "Columns: [gid, parcel_id, puid, county, shape_leng, shape_area, city, centroid, parcel_acr, geom]\n",
        "Index: []"
       ]
      }
     ],
     "prompt_number": 5
    },
    {
     "cell_type": "code",
     "collapsed": false,
     "input": [
      "# geom_overlapping\n",
      "print(spatialtoolz.geom_overlapping.__doc__)\n",
      "spatialtoolz.geom_overlapping(parcels, key_name='parcel_id',\n",
      "                              output_table_name='parcels_overlapping')"
     ],
     "language": "python",
     "metadata": {},
     "outputs": [
      {
       "output_type": "stream",
       "stream": "stdout",
       "text": [
        "\n",
        "    Export overlapping geometries from a table into another table.\n",
        "\n",
        "    The exported table contains the following columns:\n",
        "        key_name_a, key_name_b: identifiers of the overlapping pair\n",
        "        relation: DE-9IM representation of their spatial relation\n",
        "        geom_a, geom_b: corresponding geometries\n",
        "        overlap: 2D overlapping region (polygons)\n",
        "\n",
        "    Parameters\n",
        "    ----------\n",
        "    table : sqlalchemy.ext.declarative.DeclarativeMeta\n",
        "        Table ORM class to query for overlapping geometries.\n",
        "    key_name : str\n",
        "        Name of column in the queried table containing a unique identifier,\n",
        "        such as a primary key, to use for cross join and to identify\n",
        "        geometries in the exported table.\n",
        "    output_table_name : str\n",
        "        Name of exported table. Table is created in the same schema as\n",
        "        the queried table.\n",
        "\n",
        "    Returns\n",
        "    -------\n",
        "    None\n",
        "\n",
        "    \n"
       ]
      }
     ],
     "prompt_number": 6
    },
    {
     "cell_type": "code",
     "collapsed": false,
     "input": [
      "# geom_unfilled\n",
      "print(spatialtoolz.geom_unfilled.__doc__)\n",
      "spatialtoolz.geom_unfilled(parcels, output_table_name='parcels_unfilled')"
     ],
     "language": "python",
     "metadata": {},
     "outputs": [
      {
       "output_type": "stream",
       "stream": "stdout",
       "text": [
        "\n",
        "    Export rows containing interior rings into another table.\n",
        "\n",
        "    Include the unfilled geometry in the exported table as a new column\n",
        "    named \"unfilled\".\n",
        "\n",
        "    Parameters\n",
        "    ----------\n",
        "     table : sqlalchemy.ext.declarative.DeclarativeMeta\n",
        "        Table ORM class to query for rows containing geometries with\n",
        "        interior rings.\n",
        "    output_table_name : str\n",
        "        Name of exported table. Table is created in the same schema as\n",
        "        the queried table.\n",
        "\n",
        "    Returns\n",
        "    -------\n",
        "    None\n",
        "\n",
        "    \n"
       ]
      }
     ],
     "prompt_number": 7
    },
    {
     "cell_type": "code",
     "collapsed": false,
     "input": [
      "# calc_area\n",
      "print(spatialtoolz.calc_area.__doc__)\n",
      "spatialtoolz.calc_area(parcels)"
     ],
     "language": "python",
     "metadata": {},
     "outputs": [
      {
       "output_type": "stream",
       "stream": "stdout",
       "text": [
        "\n",
        "    Calculate area in units of projection and store value in calc_area column.\n",
        "\n",
        "    Parameters\n",
        "    ----------\n",
        "    table : sqlalchemy.ext.declarative.DeclarativeMeta\n",
        "        Table ORM class with geom column to calculate area for. Value is\n",
        "        stored in the calc_area column, which is created if it does not exist.\n",
        "\n",
        "    Returns\n",
        "    -------\n",
        "    None\n",
        "\n",
        "    \n"
       ]
      }
     ],
     "prompt_number": 8
    },
    {
     "cell_type": "code",
     "collapsed": false,
     "input": [
      "# calc_dist\n",
      "print(spatialtoolz.calc_dist.__doc__)\n",
      "spatialtoolz.calc_dist(parcels, water.geom)"
     ],
     "language": "python",
     "metadata": {},
     "outputs": [
      {
       "output_type": "stream",
       "stream": "stdout",
       "text": [
        "\n",
        "    Calculate distance between a table of geometries and a geometry column.\n",
        "\n",
        "    Calculates the minimum Cartesian distance in units of projection between\n",
        "    each geometry in the table and the nearest point in the geometry column.\n",
        "    Geometries must have the same projection (SRID).\n",
        "\n",
        "    Parameters\n",
        "    ----------\n",
        "    table : sqlalchemy.ext.declarative.DeclarativeMeta\n",
        "        Table ORM class with geom column to calculate distance from. Value is\n",
        "        stored in the calc_dist column, which is created if it does not exist.\n",
        "    geom : sqlalchemy.orm.Query,\n",
        "           sqlalchemy.orm.attributes.InstrumentedAttribute\n",
        "        ORM object to calculate distance to, like a column or query.\n",
        "        Must contain only one column. Rows are aggregated into a MULTI object\n",
        "        with ST_Collect (faster union that does not dissolve boundaries).\n",
        "\n",
        "    Returns\n",
        "    -------\n",
        "    column : sqlalchemy.orm.attributes.InstrumentedAttribute\n",
        "        Column containing distances from the table to the geometry column.\n",
        "\n",
        "    \n"
       ]
      },
      {
       "metadata": {},
       "output_type": "pyout",
       "prompt_number": 9,
       "text": [
        "<sqlalchemy.orm.attributes.InstrumentedAttribute at 0x7f5695d316d0>"
       ]
      }
     ],
     "prompt_number": 9
    },
    {
     "cell_type": "code",
     "collapsed": false,
     "input": [
      "# tag\n",
      "print(spatialtoolz.tag.__doc__)\n",
      "spatialtoolz.tag(parcels, 'bg_id', bg, 'objectid')"
     ],
     "language": "python",
     "metadata": {},
     "outputs": [
      {
       "output_type": "stream",
       "stream": "stdout",
       "text": [
        "\n",
        "    Tag target table with attribute of a spatially-related source table.\n",
        "\n",
        "    Parameters\n",
        "    ----------\n",
        "    target_table : sqlalchemy.ext.declarative.DeclarativeMeta\n",
        "        Target table ORM class to be tagged.\n",
        "    target_column_name : str\n",
        "        Name of column in target table to add (if doesn't exist)\n",
        "        or update (if exists). This where the tag value will be stored.\n",
        "    source_table : sqlalchemy.ext.declarative.DeclarativeMeta\n",
        "        Source table ORM class containing information to tag target table.\n",
        "    source_column_name : str\n",
        "        Name of column in source table that contains the tagging information.\n",
        "    how : str, optional\n",
        "        How to relate the two tables spatially.\n",
        "        If not specified, defaults to 'point_in_poly'.\n",
        "        Other spatial relationships are not currently supported.\n",
        "    df : pandas.DataFrame, optional\n",
        "        DataFrame to return a tagged copy of.\n",
        "\n",
        "    Returns\n",
        "    -------\n",
        "    None\n",
        "        However, if df argument is provided, pandas.DataFrame with the\n",
        "        new or updated column is returned.\n",
        "\n",
        "    \n"
       ]
      }
     ],
     "prompt_number": 10
    },
    {
     "cell_type": "code",
     "collapsed": false,
     "input": [
      "# proportion_overlap\n",
      "print(spatialtoolz.proportion_overlap.__doc__)\n",
      "spatialtoolz.proportion_overlap(parcels, water, 'proportion_water')"
     ],
     "language": "python",
     "metadata": {},
     "outputs": [
      {
       "output_type": "stream",
       "stream": "stdout",
       "text": [
        "\n",
        "    Calculate proportion of target table geometry overlap.\n",
        "\n",
        "    Calculate proportion of geometry area in each row of target table that\n",
        "    is overlapped by another table's geometry. Populate specified column in\n",
        "    target table with proportion overlap value.\n",
        "\n",
        "    Parameters\n",
        "    ----------\n",
        "    target_table : sqlalchemy.ext.declarative.DeclarativeMeta\n",
        "        Target table ORM class containing geometry to overlap.\n",
        "    over_table : sqlalchemy.ext.declarative.DeclarativeMeta\n",
        "        Table ORM class containing overlapping geometry.\n",
        "    column_name : str\n",
        "        Name of column in target table to add (if doesn't exist) or\n",
        "        update (if exists). This is where the proportion overlap value\n",
        "        will be stored.\n",
        "    df : pandas.DataFrame, optional\n",
        "        DataFrame to return a copy of with proportion overlap calculation.\n",
        "\n",
        "    Returns\n",
        "    -------\n",
        "    None\n",
        "        However, if df argument is provided, pandas.DataFrame with the\n",
        "        new or updated column is returned.\n",
        "\n",
        "    \n"
       ]
      }
     ],
     "prompt_number": 11
    },
    {
     "cell_type": "code",
     "collapsed": false,
     "input": [
      "# trim\n",
      "print(spatialtoolz.trim.__doc__)\n",
      "spatialtoolz.trim(parcels.geom, water.geom)"
     ],
     "language": "python",
     "metadata": {},
     "outputs": [
      {
       "output_type": "stream",
       "stream": "stdout",
       "text": [
        "\n",
        "    Trim target geometry by removing intersection with a trim column.\n",
        "\n",
        "    Parameters\n",
        "    ----------\n",
        "    target_col : sqlalchemy.orm.attributes.InstrumentedAttribute\n",
        "        Column ORM object to trim.\n",
        "    trim_col : sqlalchemy.orm.attributes.InstrumentedAttribute\n",
        "        Column ORM object to trim target column with.\n",
        "\n",
        "    Returns\n",
        "    -------\n",
        "    None\n",
        "\n",
        "    \n"
       ]
      }
     ],
     "prompt_number": 12
    },
    {
     "cell_type": "heading",
     "level": 2,
     "metadata": {},
     "source": [
      "Wrap PostGIS"
     ]
    },
    {
     "cell_type": "code",
     "collapsed": false,
     "input": [
      "# db_to_df\n",
      "print(io.db_to_df.__doc__)"
     ],
     "language": "python",
     "metadata": {},
     "outputs": [
      {
       "output_type": "stream",
       "stream": "stdout",
       "text": [
        "\n",
        "    Return DataFrame from Query, table, or ORM objects, like columns.\n",
        "\n",
        "    Parameters\n",
        "    ----------\n",
        "    query : sqlalchemy.orm.Query, sqlalchemy.ext.declarative.DeclarativeMeta,\n",
        "            or iterable\n",
        "        Query ORM object, table ORM class, or list of ORM objects to query,\n",
        "        like columns.\n",
        "    index_name : str, optional\n",
        "        Name of column to use as DataFrame index. If provided, column\n",
        "        must be contained in query.\n",
        "\n",
        "    Returns\n",
        "    -------\n",
        "    df : pandas.DataFrame\n",
        "\n",
        "    \n"
       ]
      }
     ],
     "prompt_number": 13
    },
    {
     "cell_type": "code",
     "collapsed": false,
     "input": [
      "io.db_to_df(water, index_name='id')"
     ],
     "language": "python",
     "metadata": {},
     "outputs": [
      {
       "html": [
        "<div style=\"max-height:1000px;max-width:1500px;overflow:auto;\">\n",
        "<table border=\"1\" class=\"dataframe\">\n",
        "  <thead>\n",
        "    <tr style=\"text-align: right;\">\n",
        "      <th></th>\n",
        "      <th>gid</th>\n",
        "      <th>county</th>\n",
        "      <th>cfcc</th>\n",
        "      <th>landname</th>\n",
        "      <th>landpoly</th>\n",
        "      <th>gavprimary</th>\n",
        "      <th>geometry_a</th>\n",
        "      <th>geometry_l</th>\n",
        "      <th>geom</th>\n",
        "    </tr>\n",
        "    <tr>\n",
        "      <th>id</th>\n",
        "      <th></th>\n",
        "      <th></th>\n",
        "      <th></th>\n",
        "      <th></th>\n",
        "      <th></th>\n",
        "      <th></th>\n",
        "      <th></th>\n",
        "      <th></th>\n",
        "      <th></th>\n",
        "    </tr>\n",
        "  </thead>\n",
        "  <tbody>\n",
        "    <tr>\n",
        "      <th>66</th>\n",
        "      <td> 1</td>\n",
        "      <td> 06095</td>\n",
        "      <td> H51</td>\n",
        "      <td> Honker Bay</td>\n",
        "      <td> 0</td>\n",
        "      <td> 66</td>\n",
        "      <td> 0</td>\n",
        "      <td> 0</td>\n",
        "      <td> 3031303630303030323044303041303030303146303030...</td>\n",
        "    </tr>\n",
        "  </tbody>\n",
        "</table>\n",
        "</div>"
       ],
       "metadata": {},
       "output_type": "pyout",
       "prompt_number": 14,
       "text": [
        "    gid county cfcc    landname  landpoly  gavprimary  geometry_a  geometry_l  \\\n",
        "id                                                                              \n",
        "66    1  06095  H51  Honker Bay         0          66           0           0   \n",
        "\n",
        "                                                 geom  \n",
        "id                                                     \n",
        "66  3031303630303030323044303041303030303146303030...  "
       ]
      }
     ],
     "prompt_number": 14
    },
    {
     "cell_type": "code",
     "collapsed": false,
     "input": [
      "with loader.database.session() as sess:\n",
      "    q = sess.query(\n",
      "        parcels.parcel_id, parcels.county,\n",
      "        parcels.calc_area, parcels.calc_dist\n",
      "    ).filter(\n",
      "        parcels.calc_dist < 10\n",
      "    )\n",
      "io.db_to_df(q, index_name='parcel_id')"
     ],
     "language": "python",
     "metadata": {},
     "outputs": [
      {
       "html": [
        "<div style=\"max-height:1000px;max-width:1500px;overflow:auto;\">\n",
        "<table border=\"1\" class=\"dataframe\">\n",
        "  <thead>\n",
        "    <tr style=\"text-align: right;\">\n",
        "      <th></th>\n",
        "      <th>county</th>\n",
        "      <th>calc_area</th>\n",
        "      <th>calc_dist</th>\n",
        "    </tr>\n",
        "    <tr>\n",
        "      <th>parcel_id</th>\n",
        "      <th></th>\n",
        "      <th></th>\n",
        "      <th></th>\n",
        "    </tr>\n",
        "  </thead>\n",
        "  <tbody>\n",
        "    <tr>\n",
        "      <th>1310619</th>\n",
        "      <td> cnc</td>\n",
        "      <td>    940.179147</td>\n",
        "      <td> 5.916508</td>\n",
        "    </tr>\n",
        "    <tr>\n",
        "      <th>1328890</th>\n",
        "      <td> cnc</td>\n",
        "      <td>   2502.951388</td>\n",
        "      <td> 8.538715</td>\n",
        "    </tr>\n",
        "    <tr>\n",
        "      <th>1329689</th>\n",
        "      <td> cnc</td>\n",
        "      <td>   1531.733259</td>\n",
        "      <td> 2.913542</td>\n",
        "    </tr>\n",
        "    <tr>\n",
        "      <th>1361759</th>\n",
        "      <td> cnc</td>\n",
        "      <td>  39137.841912</td>\n",
        "      <td> 1.766306</td>\n",
        "    </tr>\n",
        "    <tr>\n",
        "      <th>1351096</th>\n",
        "      <td> cnc</td>\n",
        "      <td> 152237.591686</td>\n",
        "      <td> 0.000000</td>\n",
        "    </tr>\n",
        "    <tr>\n",
        "      <th>1314915</th>\n",
        "      <td> cnc</td>\n",
        "      <td>   1263.207494</td>\n",
        "      <td> 0.000000</td>\n",
        "    </tr>\n",
        "    <tr>\n",
        "      <th>1314939</th>\n",
        "      <td> cnc</td>\n",
        "      <td>   1318.958161</td>\n",
        "      <td> 0.000000</td>\n",
        "    </tr>\n",
        "    <tr>\n",
        "      <th>1314951</th>\n",
        "      <td> cnc</td>\n",
        "      <td>   5152.302568</td>\n",
        "      <td> 0.000000</td>\n",
        "    </tr>\n",
        "    <tr>\n",
        "      <th>1329426</th>\n",
        "      <td> cnc</td>\n",
        "      <td>   1623.131364</td>\n",
        "      <td> 0.000000</td>\n",
        "    </tr>\n",
        "    <tr>\n",
        "      <th>1329526</th>\n",
        "      <td> cnc</td>\n",
        "      <td>   1043.805765</td>\n",
        "      <td> 0.000000</td>\n",
        "    </tr>\n",
        "    <tr>\n",
        "      <th>1329539</th>\n",
        "      <td> cnc</td>\n",
        "      <td>    580.638017</td>\n",
        "      <td> 0.000000</td>\n",
        "    </tr>\n",
        "    <tr>\n",
        "      <th>1329613</th>\n",
        "      <td> cnc</td>\n",
        "      <td>   1968.318081</td>\n",
        "      <td> 0.000000</td>\n",
        "    </tr>\n",
        "    <tr>\n",
        "      <th>1329720</th>\n",
        "      <td> cnc</td>\n",
        "      <td>   1324.626665</td>\n",
        "      <td> 0.000000</td>\n",
        "    </tr>\n",
        "    <tr>\n",
        "      <th>1329721</th>\n",
        "      <td> cnc</td>\n",
        "      <td>   1644.098390</td>\n",
        "      <td> 0.000000</td>\n",
        "    </tr>\n",
        "    <tr>\n",
        "      <th>1330034</th>\n",
        "      <td> cnc</td>\n",
        "      <td>   1236.185722</td>\n",
        "      <td> 0.000000</td>\n",
        "    </tr>\n",
        "    <tr>\n",
        "      <th>1330525</th>\n",
        "      <td> cnc</td>\n",
        "      <td>  17893.177556</td>\n",
        "      <td> 0.000000</td>\n",
        "    </tr>\n",
        "  </tbody>\n",
        "</table>\n",
        "</div>"
       ],
       "metadata": {},
       "output_type": "pyout",
       "prompt_number": 15,
       "text": [
        "          county      calc_area  calc_dist\n",
        "parcel_id                                 \n",
        "1310619      cnc     940.179147   5.916508\n",
        "1328890      cnc    2502.951388   8.538715\n",
        "1329689      cnc    1531.733259   2.913542\n",
        "1361759      cnc   39137.841912   1.766306\n",
        "1351096      cnc  152237.591686   0.000000\n",
        "1314915      cnc    1263.207494   0.000000\n",
        "1314939      cnc    1318.958161   0.000000\n",
        "1314951      cnc    5152.302568   0.000000\n",
        "1329426      cnc    1623.131364   0.000000\n",
        "1329526      cnc    1043.805765   0.000000\n",
        "1329539      cnc     580.638017   0.000000\n",
        "1329613      cnc    1968.318081   0.000000\n",
        "1329720      cnc    1324.626665   0.000000\n",
        "1329721      cnc    1644.098390   0.000000\n",
        "1330034      cnc    1236.185722   0.000000\n",
        "1330525      cnc   17893.177556   0.000000"
       ]
      }
     ],
     "prompt_number": 15
    },
    {
     "cell_type": "code",
     "collapsed": false,
     "input": [
      "# db_to_db\n",
      "print(io.db_to_db.__doc__)\n",
      "io.db_to_db(q, name='watery_parcels', schema=t, view=True)"
     ],
     "language": "python",
     "metadata": {},
     "outputs": [
      {
       "output_type": "stream",
       "stream": "stdout",
       "text": [
        "\n",
        "    Create a table or view from Query, table, or ORM objects, like columns.\n",
        "\n",
        "    Do not use to duplicate a table. The new table will not contain\n",
        "    indexes or constraints, including primary keys.\n",
        "\n",
        "    Parameters\n",
        "    ----------\n",
        "    query : sqlalchemy.orm.Query, sqlalchemy.ext.declarative.DeclarativeMeta,\n",
        "            or iterable\n",
        "        Query ORM object, table ORM class, or list of ORM objects to query,\n",
        "        like columns.\n",
        "    name : str\n",
        "        Name of table or view to create.\n",
        "    schema : schema class, optional\n",
        "        Schema of table to create. Defaults to public.\n",
        "    view : bool, optional\n",
        "        Whether to create a view instead of a table. Defaults to False.\n",
        "\n",
        "    Returns\n",
        "    -------\n",
        "    None\n",
        "\n",
        "    \n"
       ]
      }
     ],
     "prompt_number": 16
    }
   ],
   "metadata": {}
  }
 ]
}