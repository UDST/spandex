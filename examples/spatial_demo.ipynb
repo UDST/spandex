{
 "metadata": {
  "name": "",
  "signature": "sha256:ba985a5fb65487088b8e66b77a57291e2f4a3a14ff5db8335f75d72df2ed1a6f"
 },
 "nbformat": 3,
 "nbformat_minor": 0,
 "worksheets": [
  {
   "cells": [
    {
     "cell_type": "code",
     "collapsed": false,
     "input": [
      "import urbansim.sim.simulation as sim\n",
      "from spandex import spatialtoolz, utils"
     ],
     "language": "python",
     "metadata": {},
     "outputs": [],
     "prompt_number": 1
    },
    {
     "cell_type": "code",
     "collapsed": false,
     "input": [
      "# Connect to database if not already connected.\n",
      "loader = utils.DataLoader()"
     ],
     "language": "python",
     "metadata": {},
     "outputs": [],
     "prompt_number": 2
    },
    {
     "cell_type": "code",
     "collapsed": false,
     "input": [
      "# Tag parcels with block group id.\n",
      "contra_costa = loader.database.tables.staging.parcels_contra_costa\n",
      "bg = loader.database.tables.staging.boundaries_block_groups\n",
      "spatialtoolz.tag(contra_costa, 'bg_id', bg, 'objectid')"
     ],
     "language": "python",
     "metadata": {},
     "outputs": [
      {
       "output_type": "stream",
       "stream": "stdout",
       "text": [
        "Wall time: 1min 1s\n"
       ]
      }
     ],
     "prompt_number": 3
    },
    {
     "cell_type": "code",
     "collapsed": false,
     "input": [
      "# Get diagnostics (invalid and stacked geoms).\n",
      "solano = loader.database.tables.staging.parcels_solano\n",
      "invalid = spatialtoolz.geom_invalid(solano, solano.objectid)\n",
      "stacked = spatialtoolz.geom_duplicate(solano)"
     ],
     "language": "python",
     "metadata": {},
     "outputs": [],
     "prompt_number": 4
    },
    {
     "cell_type": "code",
     "collapsed": false,
     "input": [
      "# Calculate proportion of each parcel overlapped by water.\n",
      "contra_costa = loader.database.tables.staging.parcels_contra_costa\n",
      "water = loader.database.tables.staging.environment_water_bodies\n",
      "spatialtoolz.proportion_overlap(contra_costa, water, 'proportion_water')"
     ],
     "language": "python",
     "metadata": {},
     "outputs": []
    }
   ],
   "metadata": {}
  }
 ]
}