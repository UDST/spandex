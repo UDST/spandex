{
 "metadata": {
  "name": "",
  "signature": "sha256:1e9e3259104d6bdee96560a3809f8b49e0606dccaa08fd94cf67a2cb9741e596"
 },
 "nbformat": 3,
 "nbformat_minor": 0,
 "worksheets": [
  {
   "cells": [
    {
     "cell_type": "heading",
     "level": 1,
     "metadata": {},
     "source": [
      "Comparison of different Python APIs for working with geospatial data"
     ]
    },
    {
     "cell_type": "markdown",
     "metadata": {},
     "source": [
      "Some performance suggestions:\n",
      "\n",
      " - For Shapely and GeoPandas, use [`shapely.speedups.enable()`](http://toblerity.org/shapely/manual.html#performance).\n",
      " - For PostgreSQL/PostGIS, tune the database settings. A quick way to get faster performance is to use the settings suggested by [PgTune](http://pgtune.leopard.in.ua/). Select \"Data warehouses\" for \"DB Type\" and minimize the number of connections. If using a fast hard drive, like an SSD, you can also adjust [`seq_page_cost` and `random_page_cost`](http://www.postgresql.org/docs/9.3/static/runtime-config-query.html)."
     ]
    },
    {
     "cell_type": "code",
     "collapsed": false,
     "input": [
      "import os\n",
      "\n",
      "from utils import DataLoader\n",
      "\n",
      "\n",
      "with DataLoader() as loader:\n",
      "\n",
      "    # Load boundaries.\n",
      "    for boundary in ['cities', 'tracts', 'zones']:\n",
      "        filename = os.path.join('boundaries', '%s.shp' % boundary)\n",
      "        loader.load_shp(filename, boundary, drop=True)\n",
      "\n",
      "    # Load zoning.\n",
      "    loader.load_shp('zoning/zoning_geom.shp', 'zoning', drop=True)\n",
      "\n",
      "    # Load parcels.\n",
      "    for county in ['SantaFe', 'Torrance', 'Valencia', 'Bernalillo']:\n",
      "        filename = os.path.join('parcel', '{0}_ed.shp'.format(county))\n",
      "        tablename = 'parcels_{0}'.format(county.lower())\n",
      "        loader.load_shp(filename, tablename, drop=True)\n",
      "        \n",
      "    # Load land use.\n",
      "    for county in ['santa_fe', 'torrance', 'valencia', 'bernalillo', 'edgewood']:\n",
      "        filename = os.path.join('landuse', '{0}_lu.shp'.format(county))\n",
      "        tablename = 'landuse_{0}'.format(county.replace('_', ''))\n",
      "        loader.load_shp(filename, tablename, drop=True)"
     ],
     "language": "python",
     "metadata": {},
     "outputs": []
    },
    {
     "cell_type": "code",
     "collapsed": false,
     "input": [
      "# More info about the DataLoader and how to use it.\n",
      "# Override configuration in config/user.cfg.\n",
      "DataLoader?"
     ],
     "language": "python",
     "metadata": {},
     "outputs": []
    },
    {
     "cell_type": "markdown",
     "metadata": {},
     "source": [
      "## Psycopg\n",
      "\n",
      "[Psycopg](http://initd.org/psycopg/) is a driver for interacting with PostgreSQL. It does not provide any abstraction for SQL beyond [passing parameters to SQL queries](http://initd.org/psycopg/docs/usage.html#query-parameters).\n",
      "\n",
      "Advantages:\n",
      "\n",
      " - Robust.\n",
      " - PostGIS and Psycopg are both well-documented and well-supported.\n",
      "\n",
      "Disadvantages:\n",
      "\n",
      " - Python/SQL mixed code is verbose and harder to read/maintain."
     ]
    },
    {
     "cell_type": "code",
     "collapsed": false,
     "input": [
      "from utils import DataLoader\n",
      "\n",
      "\n",
      "with DataLoader() as loader:\n",
      "    with loader.connection.cursor() as cur:\n",
      "        cur.execute(\"ALTER TABLE parcels_valencia ADD zone_uid varchar(19)\")\n",
      "        cur.execute(\n",
      "            \"\"\"UPDATE parcels_valencia SET zone_uid = zoning.zone_uid\n",
      "            FROM zoning WHERE\n",
      "            ST_Intersects(ST_Centroid(parcels_valencia.geom), zoning.geom);\"\"\")"
     ],
     "language": "python",
     "metadata": {},
     "outputs": []
    },
    {
     "cell_type": "markdown",
     "metadata": {},
     "source": [
      "## GeoAlchemy 2 ORM\n",
      "\n",
      "[GeoAlchemy 2](http://geoalchemy-2.readthedocs.org/) ORM provides a high-level, object-oriented Python API that abstracts SQL expressions.\n",
      "\n",
      "Advantages:\n",
      "\n",
      " - Cleaner Python syntax.\n",
      " - Still exposes SQL functions, including [PostGIS spatial functions](http://geoalchemy-2.readthedocs.org/en/0.2.4/spatial_functions.html), directly.\n",
      " - Can coexist alongside Psycopg.\n",
      " - Provides [Shapely integration](http://geoalchemy-2.readthedocs.org/en/latest/shape.html).\n",
      " - Easier to write Python functions that wrap SQL operations.\n",
      "\n",
      "Disadvantages:\n",
      " - Requires ORM mappings to describe database tables, although [reflection](http://docs.sqlalchemy.org/en/latest/core/reflection.html) (`autoload=True`) will build it from database schema, so this might not be an issue.\n",
      " - Difficult to modify table schema, e.g., adding columns, after creating the table. Best to continue doing this using Psycopg (`ALTER TABLE`).\n",
      " - Still \"feels\" like SQL, with added overhead/complexity.\n",
      "\n",
      "Recommended reading:\n",
      " - [GeoAlchemy 2 ORM Tutorial](http://geoalchemy-2.readthedocs.org/en/latest/orm_tutorial.html)\n",
      " - [SQLAlchemy ORM Tutorial](http://docs.sqlalchemy.org/en/latest/orm/tutorial.html)"
     ]
    },
    {
     "cell_type": "code",
     "collapsed": false,
     "input": [
      "from sqlalchemy import create_engine\n",
      "from sqlalchemy.ext.declarative import declarative_base\n",
      "from sqlalchemy.orm import sessionmaker\n",
      "from geoalchemy2 import Geometry\n",
      "\n",
      "from utils import DataLoader\n",
      "\n",
      "\n",
      "# Build engine and session for ORM.\n",
      "loader = DataLoader()\n",
      "engine = create_engine('postgresql://', creator=lambda: loader.connection)\n",
      "Base = declarative_base(engine)\n",
      "Session = sessionmaker(bind=engine)\n",
      "session = Session()\n",
      "\n",
      "# Reflect all tables in the database.\n",
      "Base.metadata.reflect()\n",
      "tables = Base.metadata.tables\n",
      "\n",
      "# Map parcels and zoning tables to classes.\n",
      "class Parcels(Base):\n",
      "    __table__ = tables['parcels_valencia']\n",
      "class Zoning(Base):\n",
      "    __table__ = tables['zoning']\n",
      "\n",
      "# Dynamically map all tables to classes.\n",
      "maps = {}\n",
      "for (name, table) in tables.items():\n",
      "    maps[name] = type(str(name), (Base,), {'__table__': table})"
     ],
     "language": "python",
     "metadata": {},
     "outputs": []
    },
    {
     "cell_type": "code",
     "collapsed": false,
     "input": [
      "# TODO: Example spatial operations"
     ],
     "language": "python",
     "metadata": {},
     "outputs": []
    },
    {
     "cell_type": "markdown",
     "metadata": {},
     "source": [
      "## GeoAlchemy 2 Core\n",
      "\n",
      "GeoAlchemy 2 Core is similar to ORM, but its syntax is much less abstracted from SQL. SQL expressions are represented as Python constructs, not classes.\n",
      "\n",
      "Recommended reading:\n",
      " - [GeoAlchemy 2 Core Tutorial](http://geoalchemy-2.readthedocs.org/en/latest/core_tutorial.html)\n",
      " - [SQLAlchemy SQL Expression Language Tutorial](http://docs.sqlalchemy.org/en/latest/core/tutorial.html)"
     ]
    },
    {
     "cell_type": "code",
     "collapsed": false,
     "input": [
      "from sqlalchemy import create_engine, Table, MetaData\n",
      "from geoalchemy2 import Geometry\n",
      "\n",
      "from utils import DataLoader\n",
      "\n",
      "\n",
      "# Build engine and metadata for core.\n",
      "loader = DataLoader()\n",
      "engine = create_engine('postgresql://', creator=lambda: loader.connection)\n",
      "metadata = MetaData(engine)\n",
      "\n",
      "# Reflect all tables in the database.\n",
      "metadata.reflect()\n",
      "tables = metadata.tables\n",
      "\n",
      "parcels = tables['parcels_valencia']\n",
      "zoning = tables['zoning']"
     ],
     "language": "python",
     "metadata": {},
     "outputs": []
    },
    {
     "cell_type": "code",
     "collapsed": false,
     "input": [
      "# TODO: Example spatial operations"
     ],
     "language": "python",
     "metadata": {},
     "outputs": []
    },
    {
     "cell_type": "markdown",
     "metadata": {},
     "source": [
      "## GeoDjango"
     ]
    },
    {
     "cell_type": "markdown",
     "metadata": {},
     "source": [
      "[GeoDjango](http://geodjango.org/) is a geographic web framework. It is part of [Django](https://www.djangoproject.com/), the most well-known Python model-view-controller web framework.\n",
      "\n",
      "Advantages:\n",
      "\n",
      " - Included and maintained as part of established software.\n",
      " - Includes admin web interface and OpenLayers map for editing tables/records/geometries.\n",
      "\n",
      "Disadvantages:\n",
      "\n",
      " - Better suited for GIS web applications.\n",
      " - More limited compared to GeoAlchemy.\n",
      " - More difficult to autoload schema compared to GeoAlchemy. "
     ]
    },
    {
     "cell_type": "markdown",
     "metadata": {},
     "source": [
      "## GeoPandas\n",
      "\n",
      "Advantages:\n",
      "\n",
      " - Does not depend on PostGIS.\n",
      " - Clean syntax based on Pandas, Shapely, Fiona.\n",
      "\n",
      "Disadvantages:\n",
      "\n",
      " - Slow. CPU and memory intensive.\n",
      " - Might not be as practical for exploring large tables in a notebook as we would hope.\n",
      " - Moving target with development in early stages."
     ]
    },
    {
     "cell_type": "code",
     "collapsed": false,
     "input": [
      "import os\n",
      "\n",
      "from geopandas import GeoDataFrame, GeoSeries\n",
      "from shapely import speedups\n",
      "\n",
      "from utils import load_config\n",
      "\n",
      "\n",
      "config = load_config()\n",
      "basedir = config.get('data', 'directory')\n",
      "\n",
      "# Enable Shapely performance enhancements written in C.\n",
      "speedups.enable()\n",
      "\n",
      "# Load zone boundaries.\n",
      "filename = os.path.join(basedir, 'boundaries', 'zones.shp')\n",
      "zones = GeoDataFrame.from_file(filename)\n",
      "zones.head()"
     ],
     "language": "python",
     "metadata": {},
     "outputs": []
    },
    {
     "cell_type": "markdown",
     "metadata": {},
     "source": [
      "## Other software that was not considered\n",
      "\n",
      " - [PPyGIS](https://pypi.python.org/pypi/PPyGIS/): PostGIS adapter for Psycopg that translates geometry objects from EWKB to Python\n",
      " - [Shapely](http://toblerity.org/shapely/manual.html) directly instead of via GeoPandas\n",
      " - GeoKettle amd Talend spatial extension: like FME, written in Java"
     ]
    }
   ],
   "metadata": {}
  }
 ]
}